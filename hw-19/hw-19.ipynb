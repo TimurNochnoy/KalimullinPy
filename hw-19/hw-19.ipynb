{
 "cells": [
  {
   "cell_type": "markdown",
   "id": "91aa1928",
   "metadata": {},
   "source": [
    "# Задача 1"
   ]
  },
  {
   "cell_type": "code",
   "execution_count": 14,
   "id": "3b4e2b09",
   "metadata": {},
   "outputs": [
    {
     "name": "stdout",
     "output_type": "stream",
     "text": [
      "Second\n"
     ]
    }
   ],
   "source": [
    "# 01-fight\n",
    "\n",
    "import random\n",
    "from Warrior import Warrior\n",
    "\n",
    "\n",
    "player_1 = Warrior('First')\n",
    "player_2 = Warrior('Second')\n",
    "\n",
    "while player_1.health > 0 and player_2.health > 0:\n",
    "    x = random.randint(0, 1)\n",
    "    if x == 1:\n",
    "        player_1.health -= 20\n",
    "    else:\n",
    "        player_2.health -= 20\n",
    "\n",
    "if player_1.health > 0:\n",
    "    print(player_1.name)\n",
    "else:\n",
    "    print(player_2.name)\n"
   ]
  },
  {
   "cell_type": "markdown",
   "id": "13cb0acb",
   "metadata": {},
   "source": [
    "# Задача 2"
   ]
  },
  {
   "cell_type": "code",
   "execution_count": 42,
   "id": "e355e13a",
   "metadata": {},
   "outputs": [],
   "source": [
    "# 02-students\n",
    "\n",
    "import random\n",
    "from Student import Student\n",
    "\n",
    "\n",
    "names = ['Иванов Иван', 'Петров Петр', 'Сергеев Сергей', 'Антонов Антон', 'Евгеньев Евгений',\n",
    "         'Александров Александр', 'Максимов Максим', 'Данилов Данила', 'Алексеев Алексей', 'Павлов Павел']\n",
    "lst_of_students = [Student(names[i], i, [random.randint(60, 100) for i in range(5)]) for i in range(10)]\n",
    "\n",
    "res = []\n",
    "sort_progress = [sum(lst_of_students[i].progress) / len(lst_of_students[i].progress) for i in range(10)]\n",
    "sort_progress = sorted(sort_progress)\n",
    "for i in range(10):\n",
    "    for j in range(10):\n",
    "        if sum(lst_of_students[j].progress) / len(lst_of_students[j].progress) == sorted(sort_progress)[i]:\n",
    "            res.append(lst_of_students[j])\n"
   ]
  },
  {
   "cell_type": "markdown",
   "id": "f003846f",
   "metadata": {},
   "source": [
    "#  Задача 3"
   ]
  },
  {
   "cell_type": "code",
   "execution_count": 1,
   "id": "4cf543a4",
   "metadata": {},
   "outputs": [
    {
     "name": "stdout",
     "output_type": "stream",
     "text": [
      "3.1415926\n",
      "6.2831852\n",
      "12.5663704\n",
      "Yes\n",
      "No\n"
     ]
    }
   ],
   "source": [
    "# 03-circle\n",
    "\n",
    "from Circle import Circle\n",
    "\n",
    "\n",
    "circle_1 = Circle(0, 0, 1)\n",
    "circle_2 = Circle(0, 0, 2)\n",
    "circle_3 = Circle(5, 5, 1)\n",
    "\n",
    "print(circle_1.area())\n",
    "print(circle_1.perimeter())\n",
    "circle_1.increase(2)\n",
    "print(circle_1.area())\n",
    "circle_1.intersection(circle_2)\n",
    "circle_1.intersection(circle_3)\n"
   ]
  },
  {
   "cell_type": "markdown",
   "id": "b0c7824c",
   "metadata": {},
   "source": [
    "# Задача 4"
   ]
  },
  {
   "cell_type": "code",
   "execution_count": 10,
   "id": "99ae8e90",
   "metadata": {},
   "outputs": [
    {
     "name": "stdout",
     "output_type": "stream",
     "text": [
      "Спокойный\n",
      "Сытый\n",
      "Это не мой ребенок.\n",
      "Возраст должен быть меньше возраста родителя хотя бы на 16 лет.\n"
     ]
    }
   ],
   "source": [
    "# 04-fathers, mothers and children\n",
    "\n",
    "from Fathers_mothers_children import Parent\n",
    "from Fathers_mothers_children import Child\n",
    "\n",
    "\n",
    "parent_1 = Parent('Иван', 37, ['Данила', 'Мария'])\n",
    "child_1 = Child('Данила', 10, 'Не спокойный', 'Голодный')\n",
    "child_2 = Child('Петр', 25, 'Не спокойный', 'Голодный')\n",
    "\n",
    "parent_1.calm_down_the_child(child_1)\n",
    "print(child_1.calm)\n",
    "parent_1.feed_the_child(child_1)\n",
    "print(child_1.hunger)\n",
    "\n",
    "parent_1.calm_down_the_child(child_2)\n",
    "child_2.check(parent_1)\n"
   ]
  },
  {
   "cell_type": "markdown",
   "id": "f02b00f2",
   "metadata": {},
   "source": [
    "# Задача 5"
   ]
  },
  {
   "cell_type": "code",
   "execution_count": 18,
   "id": "4ef667d2",
   "metadata": {},
   "outputs": [
    {
     "name": "stdout",
     "output_type": "stream",
     "text": [
      "[1, 1, 1, 1, 1]\n",
      "[4, 4, 4, 4, 4]\n",
      "[]\n"
     ]
    }
   ],
   "source": [
    "# 05-funny farm\n",
    "\n",
    "from Farm import Potato, Garden_bed, Gardener\n",
    "\n",
    "\n",
    "potato_1 = Potato(1, 1)\n",
    "potato_2 = Potato(2, 1)\n",
    "potato_3 = Potato(3, 1)\n",
    "potato_4 = Potato(4, 1)\n",
    "potato_5 = Potato(5, 1)\n",
    "garden_bed_1 = Garden_bed([potato_1, potato_2, potato_3, potato_4, potato_5])\n",
    "gardener_1 = Gardener('Иван', garden_bed_1)\n",
    "\n",
    "print(garden_bed_1.info())\n",
    "gardener_1.care()\n",
    "gardener_1.care()\n",
    "gardener_1.care()\n",
    "print(garden_bed_1.info())\n",
    "gardener_1.harvest()\n",
    "print(garden_bed_1.info())\n"
   ]
  },
  {
   "cell_type": "markdown",
   "id": "29f231ab",
   "metadata": {},
   "source": [
    "# Задача 6"
   ]
  },
  {
   "cell_type": "code",
   "execution_count": 28,
   "id": "3b6fdc87",
   "metadata": {},
   "outputs": [
    {
     "name": "stdout",
     "output_type": "stream",
     "text": [
      "Лава\n",
      "None\n"
     ]
    }
   ],
   "source": [
    "# 06-magic\n",
    "\n",
    "from Magic import Water, Air, Fire, Earth\n",
    "\n",
    "\n",
    "forse_1 = Water()\n",
    "forse_2 = Air()\n",
    "forse_3 = Fire()\n",
    "forse_4 = Earth()\n",
    "\n",
    "forse_5 = forse_4 + forse_3\n",
    "print(forse_5)\n",
    "forse_5 = forse_4 + forse_4\n",
    "print(forse_5)\n"
   ]
  },
  {
   "cell_type": "markdown",
   "id": "d53bd73e",
   "metadata": {},
   "source": [
    "# Задача 7"
   ]
  },
  {
   "cell_type": "code",
   "execution_count": 47,
   "id": "5420ff43",
   "metadata": {},
   "outputs": [
    {
     "name": "stdout",
     "output_type": "stream",
     "text": [
      "20\n",
      "20\n",
      "10\n",
      "40\n"
     ]
    }
   ],
   "source": [
    "# 07-cohabitation\n",
    "\n",
    "import random\n",
    "from Cohabitation import Human, House, Fridge, Table\n",
    "\n",
    "\n",
    "man = Human('Иван')\n",
    "woman = Human('Мария')\n",
    "f = 0\n",
    "for i in range(365):\n",
    "    if f == 0:\n",
    "        x = random.randint(1, 6)\n",
    "        if man.hunger < 20:\n",
    "            man.eating()\n",
    "        elif man.house.fridge.food < 10:\n",
    "            man.walk()\n",
    "        elif man.house.table.money < 50:\n",
    "            man.work()\n",
    "        elif x == 1:\n",
    "            man.work()\n",
    "        elif x == 2:\n",
    "            man.eating()\n",
    "        else:\n",
    "            man.play()\n",
    "\n",
    "        if man.hunger < 0:\n",
    "            f = 1\n",
    "        \n",
    "        y = random.randint(1, 6)\n",
    "        if woman.hunger < 20:\n",
    "            woman.eating()\n",
    "        elif woman.house.fridge.food < 10:\n",
    "            woman.walk()\n",
    "        elif woman.house.table.money < 50:\n",
    "            woman.work()\n",
    "        elif y == 1:\n",
    "            woman.work()\n",
    "        elif y == 2:\n",
    "            woman.eating()\n",
    "        else:\n",
    "            woman.play()\n",
    "\n",
    "        if man.hunger < 0:\n",
    "            f = 1\n",
    "\n",
    "if f == 0:\n",
    "    print(man.hunger)\n",
    "    print(woman.hunger)\n",
    "    print(man.house.fridge.food)\n",
    "    print(man.house.table.money)\n",
    "else:\n",
    "    print('Человек умер с голоду.')\n"
   ]
  },
  {
   "cell_type": "markdown",
   "id": "46d9af3d",
   "metadata": {},
   "source": [
    "# Задача 8"
   ]
  },
  {
   "cell_type": "code",
   "execution_count": 55,
   "id": "639d8575",
   "metadata": {},
   "outputs": [
    {
     "name": "stdout",
     "output_type": "stream",
     "text": [
      "Взять - 1, остановиться - 0: 1\n",
      "10 Король\n",
      "Взять - 1, остановиться - 0: 1\n",
      "19 Девятка\n",
      "Взять - 1, остановиться - 0: 0\n",
      "Победил Иван.\n"
     ]
    }
   ],
   "source": [
    "# 08-Black Jack\n",
    "\n",
    "import random\n",
    "from Card_game import Card, Player, Black_Jack\n",
    "\n",
    "\n",
    "card_from_deck_2 = Card('Двойка', 2)\n",
    "card_from_deck_3 = Card('Тройка', 3)\n",
    "card_from_deck_4 = Card('Четверка', 4)\n",
    "card_from_deck_5 = Card('Пятерка', 5)\n",
    "card_from_deck_6 = Card('Шестерка', 6)\n",
    "card_from_deck_7 = Card('Семерка', 7)\n",
    "card_from_deck_8 = Card('Восьмерка', 8)\n",
    "card_from_deck_9 = Card('Девятка', 9)\n",
    "card_from_deck_10 = Card('Десятка', 10)\n",
    "card_from_deck_11 = Card('Валет', 10)\n",
    "card_from_deck_12 = Card('Дама', 10)\n",
    "card_from_deck_13 = Card('Король', 10)\n",
    "card_from_deck_14 = Card('Туз', 11)\n",
    "deck = [card_from_deck_2, card_from_deck_3, card_from_deck_4, card_from_deck_5,\n",
    "        card_from_deck_6, card_from_deck_7, card_from_deck_8, card_from_deck_9,\n",
    "        card_from_deck_10, card_from_deck_11, card_from_deck_12, card_from_deck_13, card_from_deck_14]\n",
    "\n",
    "player = Player('Иван')\n",
    "computer = Player('Компьютер')\n",
    "game = Black_Jack(player, computer)\n",
    "\n",
    "f = 0\n",
    "while f == 0:\n",
    "    x = random.randint(0, 12)\n",
    "    y = random.randint(0, 12)\n",
    "    s = int(input('Взять - 1, остановиться - 0: '))\n",
    "    if s == 1:\n",
    "        game.move(deck[x], deck[y])\n",
    "    if s == 0:\n",
    "        f = 1\n",
    "game.win()\n"
   ]
  },
  {
   "cell_type": "markdown",
   "id": "6a3a745d",
   "metadata": {},
   "source": [
    "# Задача 9"
   ]
  },
  {
   "cell_type": "code",
   "execution_count": 116,
   "id": "2d10e535",
   "metadata": {},
   "outputs": [
    {
     "name": "stdout",
     "output_type": "stream",
     "text": [
      "Введите размеры поля: 3\n",
      "  0 1 2\n",
      "0 _ _ _\n",
      "1 _ _ _\n",
      "2 _ _ _\n",
      "\n",
      "Ходит Иван и ставит 0\n",
      "Введите координату и значение: 0 0 0\n",
      "  0 1 2\n",
      "0 0 _ _\n",
      "1 _ _ _\n",
      "2 _ _ _\n",
      "\n",
      "Ходит Петр и ставит +\n",
      "Введите координату и значение: 1 0 +\n",
      "  0 1 2\n",
      "0 0 _ _\n",
      "1 + _ _\n",
      "2 _ _ _\n",
      "\n",
      "Ходит Иван и ставит 0\n",
      "Введите координату и значение: 1 1 0\n",
      "  0 1 2\n",
      "0 0 _ _\n",
      "1 + 0 _\n",
      "2 _ _ _\n",
      "\n",
      "Ходит Петр и ставит +\n",
      "Введите координату и значение: 0 1 +\n",
      "  0 1 2\n",
      "0 0 + _\n",
      "1 + 0 _\n",
      "2 _ _ _\n",
      "\n",
      "Ходит Иван и ставит 0\n",
      "Введите координату и значение: 2 2 0\n",
      "  0 1 2\n",
      "0 0 + _\n",
      "1 + 0 _\n",
      "2 _ _ 0\n",
      "\n",
      "Выиграл Иван\n"
     ]
    }
   ],
   "source": [
    "# 09-noughts and crosses\n",
    "\n",
    "from Noughts_and_crosses import Player, Area, Game\n",
    "\n",
    "\n",
    "First = Player('Иван')\n",
    "Second = Player('Петр')\n",
    "n = int(input('Введите размеры поля: '))\n",
    "game = Game(First, Second, n)\n",
    "game.area.show()\n",
    "f = 0\n",
    "while f == 0:\n",
    "    game.move()\n",
    "    game.win()\n",
    "    if game.k == 0 or game.k == 1:\n",
    "        f = 1\n"
   ]
  }
 ],
 "metadata": {
  "kernelspec": {
   "display_name": "Python 3 (ipykernel)",
   "language": "python",
   "name": "python3"
  },
  "language_info": {
   "codemirror_mode": {
    "name": "ipython",
    "version": 3
   },
   "file_extension": ".py",
   "mimetype": "text/x-python",
   "name": "python",
   "nbconvert_exporter": "python",
   "pygments_lexer": "ipython3",
   "version": "3.10.2"
  }
 },
 "nbformat": 4,
 "nbformat_minor": 5
}
