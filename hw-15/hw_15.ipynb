{
  "nbformat": 4,
  "nbformat_minor": 0,
  "metadata": {
    "colab": {
      "name": "hw-15.ipynb",
      "provenance": [],
      "collapsed_sections": []
    },
    "kernelspec": {
      "name": "python3",
      "display_name": "Python 3"
    },
    "language_info": {
      "name": "python"
    }
  },
  "cells": [
    {
      "cell_type": "markdown",
      "source": [
        "# Задача 1"
      ],
      "metadata": {
        "id": "JW72tT1Du-KC"
      }
    },
    {
      "cell_type": "code",
      "execution_count": 10,
      "metadata": {
        "colab": {
          "base_uri": "https://localhost:8080/"
        },
        "id": "TvIgMi1LuoYv",
        "outputId": "10d0d979-5335-42e5-8f92-9933eaff4ed7"
      },
      "outputs": [
        {
          "output_type": "stream",
          "name": "stdout",
          "text": [
            "(1, 23)\n",
            "(2, 24)\n",
            "(3, 22)\n",
            "['biology, swimming', 'math', 'computer games', 'running', 'languages', 'health food']\n",
            "20\n"
          ]
        }
      ],
      "source": [
        "#01-code review\n",
        "\n",
        "def f(dict_f):\n",
        "    lst = []\n",
        "    cnt = 0\n",
        "    for i in dict_f:\n",
        "        lst += (dict_f[i]['interests'])\n",
        "        cnt += len(dict_f[i]['surname'])\n",
        "    return lst, cnt\n",
        "\n",
        "\n",
        "students = {\n",
        "    1: {\n",
        "        'name': 'Bob',\n",
        "        'surname': 'Vazovski',\n",
        "        'age': 23,\n",
        "        'interests': ['biology, swimming']\n",
        "    },\n",
        "    2: {\n",
        "        'name': 'Rob',\n",
        "        'surname': 'Stepanov',\n",
        "        'age': 24,\n",
        "        'interests': ['math', 'computer games', 'running']\n",
        "    },\n",
        "    3: {\n",
        "        'name': 'Alexander',\n",
        "        'surname': 'Krug',\n",
        "        'age': 22,\n",
        "        'interests': ['languages', 'health food']\n",
        "    }\n",
        "}\n",
        "\n",
        "print(*((id, info['age']) for id, info in students.items()), sep='\\n')\n",
        "\n",
        "my_lst = f(students)[0]\n",
        "l = f(students)[1]\n",
        "print(my_lst)\n",
        "print(l)\n"
      ]
    },
    {
      "cell_type": "markdown",
      "source": [
        "# Задача 2"
      ],
      "metadata": {
        "id": "lhnvZatoW-kh"
      }
    },
    {
      "cell_type": "code",
      "source": [
        "# 02-universal program\n",
        "\n",
        "import sympy\n",
        "\n",
        "def prime_index(lst):\n",
        "    return [lst[i] for i in range(len(lst)) if sympy.isprime(i)]\n",
        "\n",
        "\n",
        "l = [0, 1, 2, 3, 4, 5, 6, 7, 8, 9, 10, 11, 12]\n",
        "print(prime_index(l))\n"
      ],
      "metadata": {
        "colab": {
          "base_uri": "https://localhost:8080/"
        },
        "id": "77OJU8t-XBCh",
        "outputId": "ec583169-34ee-413c-8b9b-1ef3da6696c3"
      },
      "execution_count": 8,
      "outputs": [
        {
          "output_type": "stream",
          "name": "stdout",
          "text": [
            "[2, 3, 5, 7, 11]\n"
          ]
        }
      ]
    },
    {
      "cell_type": "markdown",
      "source": [
        "# Задача 3"
      ],
      "metadata": {
        "id": "fylPn28vbD9h"
      }
    },
    {
      "cell_type": "code",
      "source": [
        "# 03-function\n",
        "\n",
        "def slice_tuple(tlp, elem):\n",
        "    tlp_new = []\n",
        "    if elem in tlp:\n",
        "        i_first = -1\n",
        "        i_last = -1\n",
        "        for i in range(len(tlp)):\n",
        "            if tlp[i] == elem:\n",
        "                i_last = i\n",
        "                if i_first == -1:\n",
        "                    i_first = i\n",
        "        if i_first == i_last:\n",
        "            tlp_new = [tlp[i] for i in range(i_first, len(tlp))]\n",
        "        if i_first != i_last:\n",
        "            tlp_new = [tlp[i] for i in range(i_first, i_last + 1)]\n",
        "    return tuple(tlp_new)\n",
        "\n",
        "\n",
        "tlp_example = (0, 1, 2, 3, 4, 5, 6, 7, 8, 9, 10, 11, 12, 1, 13, 14, 2, 1, 15)\n",
        "print(slice_tuple(tlp_example, -1))\n",
        "print(slice_tuple(tlp_example, 1))\n",
        "print(slice_tuple(tlp_example, 2))\n",
        "print(slice_tuple(tlp_example, 3))\n"
      ],
      "metadata": {
        "colab": {
          "base_uri": "https://localhost:8080/"
        },
        "id": "OKFEgV80bGIl",
        "outputId": "c79ac28e-2a70-4546-ffb2-6e405f3946d4"
      },
      "execution_count": 18,
      "outputs": [
        {
          "output_type": "stream",
          "name": "stdout",
          "text": [
            "()\n",
            "(1, 2, 3, 4, 5, 6, 7, 8, 9, 10, 11, 12, 1, 13, 14, 2, 1)\n",
            "(2, 3, 4, 5, 6, 7, 8, 9, 10, 11, 12, 1, 13, 14, 2)\n",
            "(3, 4, 5, 6, 7, 8, 9, 10, 11, 12, 1, 13, 14, 2, 1, 15)\n"
          ]
        }
      ]
    },
    {
      "cell_type": "markdown",
      "source": [
        "# Задача 4"
      ],
      "metadata": {
        "id": "j8eNwfASglka"
      }
    },
    {
      "cell_type": "code",
      "source": [
        "# 04-players\n",
        "\n",
        "players = {\n",
        "    (\"Ivan\", \"Volkin\"): (10, 5, 13),\n",
        "    (\"Bob\", \"Robbin\"): (7, 5, 14),\n",
        "    (\"Rob\", \"Bobbin\"): (12, 8, 2)\n",
        "}\n",
        "\n",
        "lst_res = []\n",
        "for key, points in players.items():\n",
        "    lst = [key[0], key[1], points[0], points[1], points[2]]\n",
        "    lst_res.append(tuple(lst))\n",
        "print(lst_res)\n"
      ],
      "metadata": {
        "colab": {
          "base_uri": "https://localhost:8080/"
        },
        "id": "ef2B0FHJgopZ",
        "outputId": "33c95c17-c44a-4be0-8599-26232989219c"
      },
      "execution_count": 24,
      "outputs": [
        {
          "output_type": "stream",
          "name": "stdout",
          "text": [
            "[('Ivan', 'Volkin', 10, 5, 13), ('Bob', 'Robbin', 7, 5, 14), ('Rob', 'Bobbin', 12, 8, 2)]\n"
          ]
        }
      ]
    },
    {
      "cell_type": "markdown",
      "source": [
        "# Задача 5"
      ],
      "metadata": {
        "id": "WdmWYp5Pjcw8"
      }
    },
    {
      "cell_type": "code",
      "source": [
        "# 05-one family\n",
        "\n",
        "database = {\n",
        "    ('Сидоров', 'Никита'): 35,\n",
        "    ('Сидорова', 'Алина'): 34,\n",
        "    ('Сидоров', 'Павел'): 10,\n",
        "    ('Иванов', 'Никита'): 25,\n",
        "    ('Иванова', 'Алина'): 24,\n",
        "    ('Иванов', 'Павел'): 20\n",
        "}\n",
        "\n",
        "s = input('Введите фамилию: ').lower()\n",
        "for surname in database.keys():\n",
        "    if surname[0].lower() == s or (surname[0].lower()) == s + 'а':\n",
        "        print(surname[0], surname[1], database[surname])\n"
      ],
      "metadata": {
        "colab": {
          "base_uri": "https://localhost:8080/"
        },
        "id": "XrD2ZbQMjf-M",
        "outputId": "55cfa118-2998-48ee-eb1e-a136b181f721"
      },
      "execution_count": 27,
      "outputs": [
        {
          "output_type": "stream",
          "name": "stdout",
          "text": [
            "Введите фамилию: Сидоров\n",
            "Сидоров Никита 35\n",
            "Сидорова Алина 34\n",
            "Сидоров Павел 10\n"
          ]
        }
      ]
    },
    {
      "cell_type": "markdown",
      "source": [
        "# Задача 6"
      ],
      "metadata": {
        "id": "ExSmMcSrmOu8"
      }
    },
    {
      "cell_type": "code",
      "source": [
        "# 06-in pairs\n",
        "\n",
        "lst = [i for i in range(10)]\n",
        "\n",
        "# first way\n",
        "lst_new = []\n",
        "for i in range(0, len(lst) - 1, 2):\n",
        "    lst_new.append(tuple([lst[i], lst[i + 1]]))\n",
        "print(lst_new)\n",
        "\n",
        "# second way\n",
        "lst_new = [tuple([lst[i], lst[i + 1]]) for i in range(0, len(lst) - 1, 2)]\n",
        "print(lst_new)\n"
      ],
      "metadata": {
        "colab": {
          "base_uri": "https://localhost:8080/"
        },
        "id": "hxsvFaMGmRjf",
        "outputId": "a3ac2db8-903b-444f-fcb0-0d14fc64cb45"
      },
      "execution_count": 30,
      "outputs": [
        {
          "output_type": "stream",
          "name": "stdout",
          "text": [
            "[(0, 1), (2, 3), (4, 5), (6, 7), (8, 9)]\n",
            "[(0, 1), (2, 3), (4, 5), (6, 7), (8, 9)]\n"
          ]
        }
      ]
    },
    {
      "cell_type": "markdown",
      "source": [
        "# Задача 7"
      ],
      "metadata": {
        "id": "GSMN0VEAn4zy"
      }
    },
    {
      "cell_type": "code",
      "source": [
        "# 07-sort function\n",
        "\n",
        "def sort_tuple(tlp):\n",
        "    f = 0\n",
        "    for elem in tlp:\n",
        "        if int(elem) != elem:\n",
        "            f = 1\n",
        "    if f == 1:\n",
        "        return tlp\n",
        "    else:\n",
        "        lst = list(tlp)\n",
        "        lst.sort()\n",
        "        return(tuple(lst))\n",
        "\n",
        "\n",
        "tlp_example = (2, 4, 6, 8, 9, 7, 5, 3, 1)\n",
        "print(sort_tuple(tlp_example))\n",
        "\n",
        "tlp_example = (2, 4, 6, 8, 9, 7, 5, 3, 1.5)\n",
        "print(sort_tuple(tlp_example))\n"
      ],
      "metadata": {
        "colab": {
          "base_uri": "https://localhost:8080/"
        },
        "id": "bVGAlyDBn-9z",
        "outputId": "2b87b8ba-4030-499e-ef09-1469fa9b1f2f"
      },
      "execution_count": 41,
      "outputs": [
        {
          "output_type": "stream",
          "name": "stdout",
          "text": [
            "(1, 2, 3, 4, 5, 6, 7, 8, 9)\n",
            "(2, 4, 6, 8, 9, 7, 5, 3, 1.5)\n"
          ]
        }
      ]
    },
    {
      "cell_type": "markdown",
      "source": [
        "# Задача 8"
      ],
      "metadata": {
        "id": "xRJEdNLvqwPf"
      }
    },
    {
      "cell_type": "code",
      "source": [
        "# 08-contacts 3\n",
        "\n",
        "phone_book = {}\n",
        "\n",
        "while True:\n",
        "    s = input('Введите действие: ')\n",
        "    if s == 'Добавить контакт':\n",
        "        name = input('Введите имя контакта: ')\n",
        "        surname = input('Введите фамилию контакта: ')\n",
        "        phone_number = input('Введите номер телефона: ')\n",
        "        if (name, surname) in phone_book:\n",
        "            print('Контакт уже есть в телефонной книге')\n",
        "        else:\n",
        "            phone_book[(name, surname)] = phone_number\n",
        "    if s == 'Поиск человека по фамилии':\n",
        "        surname = input('Введите фамилию контакта: ').lower()\n",
        "        for key in phone_book.keys():\n",
        "            if key[1].lower() == surname:\n",
        "                print(key[0], key[1], '-', phone_book[key])\n"
      ],
      "metadata": {
        "colab": {
          "base_uri": "https://localhost:8080/",
          "height": 814
        },
        "id": "VRwjBHfcq0IF",
        "outputId": "d061c771-8dd1-4704-8dd6-6e9ce806b2c4"
      },
      "execution_count": 43,
      "outputs": [
        {
          "output_type": "stream",
          "name": "stdout",
          "text": [
            "Введите действие: Добавить контакт\n",
            "Введите имя контакта: Иван\n",
            "Введите фамилию контакта: Иванов\n",
            "Введите номер телефона: 123\n",
            "Введите действие: Добавить контакт\n",
            "Введите имя контакта: Петр\n",
            "Введите фамилию контакта: Петров\n",
            "Введите номер телефона: 234\n",
            "Введите действие: Добавить контакт\n",
            "Введите имя контакта: Петр\n",
            "Введите фамилию контакта: Иванов\n",
            "Введите номер телефона: 345\n",
            "Введите действие: Поиск человека по фамилии\n",
            "Введите фамилию контакта: Иванов\n",
            "Иван Иванов - 123\n",
            "Петр Иванов - 345\n"
          ]
        },
        {
          "output_type": "error",
          "ename": "KeyboardInterrupt",
          "evalue": "ignored",
          "traceback": [
            "\u001b[0;31m---------------------------------------------------------------------------\u001b[0m",
            "\u001b[0;31mKeyboardInterrupt\u001b[0m                         Traceback (most recent call last)",
            "\u001b[0;32m/usr/local/lib/python3.7/dist-packages/ipykernel/kernelbase.py\u001b[0m in \u001b[0;36m_input_request\u001b[0;34m(self, prompt, ident, parent, password)\u001b[0m\n\u001b[1;32m    728\u001b[0m             \u001b[0;32mtry\u001b[0m\u001b[0;34m:\u001b[0m\u001b[0;34m\u001b[0m\u001b[0;34m\u001b[0m\u001b[0m\n\u001b[0;32m--> 729\u001b[0;31m                 \u001b[0mident\u001b[0m\u001b[0;34m,\u001b[0m \u001b[0mreply\u001b[0m \u001b[0;34m=\u001b[0m \u001b[0mself\u001b[0m\u001b[0;34m.\u001b[0m\u001b[0msession\u001b[0m\u001b[0;34m.\u001b[0m\u001b[0mrecv\u001b[0m\u001b[0;34m(\u001b[0m\u001b[0mself\u001b[0m\u001b[0;34m.\u001b[0m\u001b[0mstdin_socket\u001b[0m\u001b[0;34m,\u001b[0m \u001b[0;36m0\u001b[0m\u001b[0;34m)\u001b[0m\u001b[0;34m\u001b[0m\u001b[0;34m\u001b[0m\u001b[0m\n\u001b[0m\u001b[1;32m    730\u001b[0m             \u001b[0;32mexcept\u001b[0m \u001b[0mException\u001b[0m\u001b[0;34m:\u001b[0m\u001b[0;34m\u001b[0m\u001b[0;34m\u001b[0m\u001b[0m\n",
            "\u001b[0;32m/usr/local/lib/python3.7/dist-packages/jupyter_client/session.py\u001b[0m in \u001b[0;36mrecv\u001b[0;34m(self, socket, mode, content, copy)\u001b[0m\n\u001b[1;32m    802\u001b[0m         \u001b[0;32mtry\u001b[0m\u001b[0;34m:\u001b[0m\u001b[0;34m\u001b[0m\u001b[0;34m\u001b[0m\u001b[0m\n\u001b[0;32m--> 803\u001b[0;31m             \u001b[0mmsg_list\u001b[0m \u001b[0;34m=\u001b[0m \u001b[0msocket\u001b[0m\u001b[0;34m.\u001b[0m\u001b[0mrecv_multipart\u001b[0m\u001b[0;34m(\u001b[0m\u001b[0mmode\u001b[0m\u001b[0;34m,\u001b[0m \u001b[0mcopy\u001b[0m\u001b[0;34m=\u001b[0m\u001b[0mcopy\u001b[0m\u001b[0;34m)\u001b[0m\u001b[0;34m\u001b[0m\u001b[0;34m\u001b[0m\u001b[0m\n\u001b[0m\u001b[1;32m    804\u001b[0m         \u001b[0;32mexcept\u001b[0m \u001b[0mzmq\u001b[0m\u001b[0;34m.\u001b[0m\u001b[0mZMQError\u001b[0m \u001b[0;32mas\u001b[0m \u001b[0me\u001b[0m\u001b[0;34m:\u001b[0m\u001b[0;34m\u001b[0m\u001b[0;34m\u001b[0m\u001b[0m\n",
            "\u001b[0;32m/usr/local/lib/python3.7/dist-packages/zmq/sugar/socket.py\u001b[0m in \u001b[0;36mrecv_multipart\u001b[0;34m(self, flags, copy, track)\u001b[0m\n\u001b[1;32m    624\u001b[0m         \"\"\"\n\u001b[0;32m--> 625\u001b[0;31m         \u001b[0mparts\u001b[0m \u001b[0;34m=\u001b[0m \u001b[0;34m[\u001b[0m\u001b[0mself\u001b[0m\u001b[0;34m.\u001b[0m\u001b[0mrecv\u001b[0m\u001b[0;34m(\u001b[0m\u001b[0mflags\u001b[0m\u001b[0;34m,\u001b[0m \u001b[0mcopy\u001b[0m\u001b[0;34m=\u001b[0m\u001b[0mcopy\u001b[0m\u001b[0;34m,\u001b[0m \u001b[0mtrack\u001b[0m\u001b[0;34m=\u001b[0m\u001b[0mtrack\u001b[0m\u001b[0;34m)\u001b[0m\u001b[0;34m]\u001b[0m\u001b[0;34m\u001b[0m\u001b[0;34m\u001b[0m\u001b[0m\n\u001b[0m\u001b[1;32m    626\u001b[0m         \u001b[0;31m# have first part already, only loop while more to receive\u001b[0m\u001b[0;34m\u001b[0m\u001b[0;34m\u001b[0m\u001b[0;34m\u001b[0m\u001b[0m\n",
            "\u001b[0;32mzmq/backend/cython/socket.pyx\u001b[0m in \u001b[0;36mzmq.backend.cython.socket.Socket.recv\u001b[0;34m()\u001b[0m\n",
            "\u001b[0;32mzmq/backend/cython/socket.pyx\u001b[0m in \u001b[0;36mzmq.backend.cython.socket.Socket.recv\u001b[0;34m()\u001b[0m\n",
            "\u001b[0;32mzmq/backend/cython/socket.pyx\u001b[0m in \u001b[0;36mzmq.backend.cython.socket._recv_copy\u001b[0;34m()\u001b[0m\n",
            "\u001b[0;32m/usr/local/lib/python3.7/dist-packages/zmq/backend/cython/checkrc.pxd\u001b[0m in \u001b[0;36mzmq.backend.cython.checkrc._check_rc\u001b[0;34m()\u001b[0m\n",
            "\u001b[0;31mKeyboardInterrupt\u001b[0m: ",
            "\nDuring handling of the above exception, another exception occurred:\n",
            "\u001b[0;31mKeyboardInterrupt\u001b[0m                         Traceback (most recent call last)",
            "\u001b[0;32m<ipython-input-43-c93d6096a281>\u001b[0m in \u001b[0;36m<module>\u001b[0;34m()\u001b[0m\n\u001b[1;32m      4\u001b[0m \u001b[0;34m\u001b[0m\u001b[0m\n\u001b[1;32m      5\u001b[0m \u001b[0;32mwhile\u001b[0m \u001b[0;32mTrue\u001b[0m\u001b[0;34m:\u001b[0m\u001b[0;34m\u001b[0m\u001b[0;34m\u001b[0m\u001b[0m\n\u001b[0;32m----> 6\u001b[0;31m     \u001b[0ms\u001b[0m \u001b[0;34m=\u001b[0m \u001b[0minput\u001b[0m\u001b[0;34m(\u001b[0m\u001b[0;34m'Введите действие: '\u001b[0m\u001b[0;34m)\u001b[0m\u001b[0;34m\u001b[0m\u001b[0;34m\u001b[0m\u001b[0m\n\u001b[0m\u001b[1;32m      7\u001b[0m     \u001b[0;32mif\u001b[0m \u001b[0ms\u001b[0m \u001b[0;34m==\u001b[0m \u001b[0;34m'Добавить контакт'\u001b[0m\u001b[0;34m:\u001b[0m\u001b[0;34m\u001b[0m\u001b[0;34m\u001b[0m\u001b[0m\n\u001b[1;32m      8\u001b[0m         \u001b[0mname\u001b[0m \u001b[0;34m=\u001b[0m \u001b[0minput\u001b[0m\u001b[0;34m(\u001b[0m\u001b[0;34m'Введите имя контакта: '\u001b[0m\u001b[0;34m)\u001b[0m\u001b[0;34m\u001b[0m\u001b[0;34m\u001b[0m\u001b[0m\n",
            "\u001b[0;32m/usr/local/lib/python3.7/dist-packages/ipykernel/kernelbase.py\u001b[0m in \u001b[0;36mraw_input\u001b[0;34m(self, prompt)\u001b[0m\n\u001b[1;32m    702\u001b[0m             \u001b[0mself\u001b[0m\u001b[0;34m.\u001b[0m\u001b[0m_parent_ident\u001b[0m\u001b[0;34m,\u001b[0m\u001b[0;34m\u001b[0m\u001b[0;34m\u001b[0m\u001b[0m\n\u001b[1;32m    703\u001b[0m             \u001b[0mself\u001b[0m\u001b[0;34m.\u001b[0m\u001b[0m_parent_header\u001b[0m\u001b[0;34m,\u001b[0m\u001b[0;34m\u001b[0m\u001b[0;34m\u001b[0m\u001b[0m\n\u001b[0;32m--> 704\u001b[0;31m             \u001b[0mpassword\u001b[0m\u001b[0;34m=\u001b[0m\u001b[0;32mFalse\u001b[0m\u001b[0;34m,\u001b[0m\u001b[0;34m\u001b[0m\u001b[0;34m\u001b[0m\u001b[0m\n\u001b[0m\u001b[1;32m    705\u001b[0m         )\n\u001b[1;32m    706\u001b[0m \u001b[0;34m\u001b[0m\u001b[0m\n",
            "\u001b[0;32m/usr/local/lib/python3.7/dist-packages/ipykernel/kernelbase.py\u001b[0m in \u001b[0;36m_input_request\u001b[0;34m(self, prompt, ident, parent, password)\u001b[0m\n\u001b[1;32m    732\u001b[0m             \u001b[0;32mexcept\u001b[0m \u001b[0mKeyboardInterrupt\u001b[0m\u001b[0;34m:\u001b[0m\u001b[0;34m\u001b[0m\u001b[0;34m\u001b[0m\u001b[0m\n\u001b[1;32m    733\u001b[0m                 \u001b[0;31m# re-raise KeyboardInterrupt, to truncate traceback\u001b[0m\u001b[0;34m\u001b[0m\u001b[0;34m\u001b[0m\u001b[0;34m\u001b[0m\u001b[0m\n\u001b[0;32m--> 734\u001b[0;31m                 \u001b[0;32mraise\u001b[0m \u001b[0mKeyboardInterrupt\u001b[0m\u001b[0;34m\u001b[0m\u001b[0;34m\u001b[0m\u001b[0m\n\u001b[0m\u001b[1;32m    735\u001b[0m             \u001b[0;32melse\u001b[0m\u001b[0;34m:\u001b[0m\u001b[0;34m\u001b[0m\u001b[0;34m\u001b[0m\u001b[0m\n\u001b[1;32m    736\u001b[0m                 \u001b[0;32mbreak\u001b[0m\u001b[0;34m\u001b[0m\u001b[0;34m\u001b[0m\u001b[0m\n",
            "\u001b[0;31mKeyboardInterrupt\u001b[0m: "
          ]
        }
      ]
    },
    {
      "cell_type": "markdown",
      "source": [
        "# Задача 9"
      ],
      "metadata": {
        "id": "Q0CnrdTvvJZW"
      }
    },
    {
      "cell_type": "code",
      "source": [
        "from operator import index\n",
        "# 09-сompetition protocol\n",
        "\n",
        "N = int(input('Сколько записей вносится в протокол? '))\n",
        "protocol = {}\n",
        "print('Записи (результат и имя):')\n",
        "\n",
        "for i in range(N):\n",
        "    points, name = input(str(i + 1) + ' запись: ').split()\n",
        "    protocol[i] = [name, int(points)]\n",
        "'''\n",
        "protocol = {\n",
        "    0: ['Jack', 69485],\n",
        "    1: ['qwerty', 95715],\n",
        "    2: ['Alex', 95715],\n",
        "    3: ['M', 83647],\n",
        "    4: ['qwerty', 197128],\n",
        "    5: ['Jack', 95715],\n",
        "    6: ['Alex', 93289],\n",
        "    7: ['Alex', 95715],\n",
        "    8: ['M', 95715]\n",
        "}\n",
        "'''\n",
        "res_name = {}\n",
        "lst_name = list(set((protocol[i][0] for i in range(N))))\n",
        "for name in lst_name:\n",
        "    max_point = -1\n",
        "    min_index = -1\n",
        "    for i in range(N):\n",
        "        if protocol[i][0] == name and protocol[i][1] > max_point:\n",
        "            max_point = protocol[i][1]\n",
        "            min_index = i\n",
        "    res_name[min_index] = [name, max_point]\n",
        "\n",
        "lst_keys = list(res_name.keys())\n",
        "lst_keys.sort()\n",
        "res_name_sort = {}\n",
        "for key in lst_keys:\n",
        "    res_name_sort[key] = [res_name[key][0], res_name[key][1]]\n",
        "\n",
        "print('Итоги соревнований:')\n",
        "for i in range(3):\n",
        "    max_point = 0\n",
        "    for index in res_name_sort.keys():\n",
        "        if res_name_sort[index][1] > max_point:\n",
        "            max_point = res_name_sort[index][1]\n",
        "            min_index = index\n",
        "    print(i + 1, 'место.', res_name_sort[min_index][0],\n",
        "          '(' + str(max_point) + ')')\n",
        "    res_name_sort.pop(min_index)\n"
      ],
      "metadata": {
        "colab": {
          "base_uri": "https://localhost:8080/"
        },
        "id": "pV1dBRFYvZCB",
        "outputId": "5642ff06-dab1-4387-aecc-0f3412d0d29a"
      },
      "execution_count": 79,
      "outputs": [
        {
          "output_type": "stream",
          "name": "stdout",
          "text": [
            "Сколько записей вносится в протокол? 9\n",
            "Записи (результат и имя):\n",
            "1 запись: 69485 Jack \n",
            "2 запись: 95715 qwerty \n",
            "3 запись: 95715 Alex \n",
            "4 запись: 83647 M\n",
            "5 запись: 197128 qwerty \n",
            "6 запись: 95715 Jack \n",
            "7 запись: 93289 Alex \n",
            "8 запись: 95715 Alex \n",
            "9 запись: 95715 M\n",
            "Итоги соревнований:\n",
            "1 место. qwerty (197128)\n",
            "2 место. Alex (95715)\n",
            "3 место. Jack (95715)\n"
          ]
        }
      ]
    },
    {
      "cell_type": "markdown",
      "source": [
        "# Задача 10"
      ],
      "metadata": {
        "id": "E_j-azfQNLjH"
      }
    },
    {
      "cell_type": "code",
      "source": [
        "# 10-own zip function\n",
        "\n",
        "s = 'abcd'\n",
        "tlp = (10, 20, 30, 40)\n",
        "\n",
        "dict_help = {s[i] : tlp[i] for i in range(len(s))}\n",
        "\n",
        "print(((letter, number) for letter, number in dict_help.items()))\n",
        "print(*((letter, number) for letter, number in dict_help.items()), sep='\\n')\n"
      ],
      "metadata": {
        "colab": {
          "base_uri": "https://localhost:8080/"
        },
        "id": "u0mCnDDoNNrP",
        "outputId": "2e49f1d0-2820-4462-fe89-31356729e76e"
      },
      "execution_count": 87,
      "outputs": [
        {
          "output_type": "stream",
          "name": "stdout",
          "text": [
            "<generator object <genexpr> at 0x7f0534c0ad50>\n",
            "('a', 10)\n",
            "('b', 20)\n",
            "('c', 30)\n",
            "('d', 40)\n"
          ]
        }
      ]
    }
  ]
}