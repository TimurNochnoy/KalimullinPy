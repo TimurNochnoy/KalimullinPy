{
  "nbformat": 4,
  "nbformat_minor": 0,
  "metadata": {
    "colab": {
      "name": "hw-16.ipynb",
      "provenance": [],
      "collapsed_sections": []
    },
    "kernelspec": {
      "name": "python3",
      "display_name": "Python 3"
    },
    "language_info": {
      "name": "python"
    }
  },
  "cells": [
    {
      "cell_type": "markdown",
      "source": [
        "# Задача 1"
      ],
      "metadata": {
        "id": "fw00Mx55kg-k"
      }
    },
    {
      "cell_type": "code",
      "execution_count": null,
      "metadata": {
        "colab": {
          "base_uri": "https://localhost:8080/"
        },
        "id": "HFV7MDpikd39",
        "outputId": "bf0f6e2f-d73f-4439-87c8-6d2249645350"
      },
      "outputs": [
        {
          "output_type": "stream",
          "name": "stdout",
          "text": [
            "1 2 3 4 5 6 7 8 9\n"
          ]
        }
      ],
      "source": [
        "# 01-challenge\n",
        "\n",
        "def print_range(N):\n",
        "    print(*(range(1, N)), sep=' ')\n",
        "\n",
        "\n",
        "print_range(10)\n"
      ]
    },
    {
      "cell_type": "markdown",
      "source": [
        "# Задача 2"
      ],
      "metadata": {
        "id": "CGSDg-dwke8u"
      }
    },
    {
      "cell_type": "code",
      "source": [
        "# 02-my zip\n",
        "\n",
        "def my_zip(iter_1, iter_2):\n",
        "    min_len = min(len(iter_1), len(iter_2))\n",
        "    dict_help = {iter_1[i] : iter_2[i] for i in range(min_len)}\n",
        "    return print([(letter, number) for letter, number in dict_help.items()])\n",
        "\n",
        "\n",
        "a = 'abcd'\n",
        "b = (10, 20, 30, 40, 50)\n",
        "\n",
        "print(list(zip(a, b)))\n",
        "my_zip(a, b)\n"
      ],
      "metadata": {
        "colab": {
          "base_uri": "https://localhost:8080/"
        },
        "id": "1zfqsESImOUI",
        "outputId": "758d49de-3e50-4627-ee29-58fe0d492d16"
      },
      "execution_count": null,
      "outputs": [
        {
          "output_type": "stream",
          "name": "stdout",
          "text": [
            "[('a', 10), ('b', 20), ('c', 30), ('d', 40)]\n",
            "[('a', 10), ('b', 20), ('c', 30), ('d', 40)]\n"
          ]
        }
      ]
    },
    {
      "cell_type": "markdown",
      "source": [
        "# Задача 3"
      ],
      "metadata": {
        "id": "Xjb2yJH2oXZ1"
      }
    },
    {
      "cell_type": "code",
      "source": [
        "# 03-Fibonacci series\n",
        "\n",
        "def place_in_Fibonacci_series(N):\n",
        "    if N == 1:\n",
        "        return 1\n",
        "    if N == 2:\n",
        "        return 1\n",
        "    if N > 2:\n",
        "        return place_in_Fibonacci_series(N-1) + place_in_Fibonacci_series(N-2)\n",
        "\n",
        "\n",
        "num_pos = int(input('Введите позицию числа в ряде Фибоначчи: '))\n",
        "print('Число:', place_in_Fibonacci_series(num_pos))\n"
      ],
      "metadata": {
        "colab": {
          "base_uri": "https://localhost:8080/"
        },
        "id": "6zpJwBK4ofEb",
        "outputId": "93f435a6-6d7d-44b1-e81d-af95545275c5"
      },
      "execution_count": null,
      "outputs": [
        {
          "output_type": "stream",
          "name": "stdout",
          "text": [
            "Введите позицию числа в ряде Фибоначчи: 10\n",
            "Число: 55\n"
          ]
        }
      ]
    },
    {
      "cell_type": "markdown",
      "source": [
        "# Задача 4"
      ],
      "metadata": {
        "id": "aEDhSggAqL1r"
      }
    },
    {
      "cell_type": "code",
      "source": [
        "# 04-finding an element\n",
        "\n",
        "def search(data, key_f, depth_f = 3):\n",
        "    if key_f in data:\n",
        "        return data[key_f]\n",
        "    if depth > 1:\n",
        "        for data_new in data.values():\n",
        "            if isinstance(data_new, dict):\n",
        "                res = search(data_new, key_f, depth_f - 1)\n",
        "                if res:\n",
        "                    break\n",
        "        else:\n",
        "            res = None\n",
        "        return res\n",
        "\n",
        "\n",
        "site = {\n",
        "    'html': {\n",
        "        'head': {\n",
        "            'title': 'Мой сайт'\n",
        "        },\n",
        "        'body': {\n",
        "            'h2': 'Здесь будет мой заголовок',\n",
        "            'div': 'Тут, наверное, какой-то блок',\n",
        "            'p': 'А вот здесь новый абзац'\n",
        "        }\n",
        "    }\n",
        "}\n",
        " \n",
        "key = input('Какой ключ ищем? ')\n",
        "depth = int(input('Введите глубину поиска: '))\n",
        "print(search(site, key, depth))\n",
        "\n"
      ],
      "metadata": {
        "colab": {
          "base_uri": "https://localhost:8080/"
        },
        "id": "OIp4qoz_qNoo",
        "outputId": "d809cd16-e3b9-4bfd-bc1a-8daf5c353ecf"
      },
      "execution_count": null,
      "outputs": [
        {
          "output_type": "stream",
          "name": "stdout",
          "text": [
            "Какой ключ ищем? p\n",
            "Введите глубину поиска: 3\n",
            "А вот здесь новый абзац\n"
          ]
        }
      ]
    },
    {
      "cell_type": "markdown",
      "source": [
        "# Задача 5"
      ],
      "metadata": {
        "id": "oQAoZJ8BsO1z"
      }
    },
    {
      "cell_type": "code",
      "source": [
        "# 05-speeding up the function\n",
        "\n",
        "def calculating_math_func(data, container = [1, 1]):\n",
        "    if data in container:\n",
        "        result = container[data]\n",
        "    else:\n",
        "        result = container[-1]\n",
        "        for i in range(container[-1] + 1, data + 1):\n",
        "            result *= i\n",
        "            container.append(result)\n",
        "    result /= data ** 3\n",
        "    result = result ** 10\n",
        "    return result\n",
        "\n",
        "\n",
        "print(calculating_math_func(5))\n"
      ],
      "metadata": {
        "id": "Glc4MhswsUQR",
        "colab": {
          "base_uri": "https://localhost:8080/"
        },
        "outputId": "34d1e7b7-12f8-49a6-bdf2-3002c9c55e61"
      },
      "execution_count": 5,
      "outputs": [
        {
          "output_type": "stream",
          "name": "stdout",
          "text": [
            "0.6648326359915008\n"
          ]
        }
      ]
    },
    {
      "cell_type": "markdown",
      "source": [
        "# Задача 6"
      ],
      "metadata": {
        "id": "ZEc3KDpuzvTr"
      }
    },
    {
      "cell_type": "code",
      "source": [
        "# 06-deep copy\n",
        "\n",
        "def new_site(cliche, name):\n",
        "    site_n = cliche\n",
        "    site_n['html']['head']['title'] = str('Куплю/продам ' + name + ' недорого')\n",
        "    site_n['html']['body']['h2'] = str('У нас самая низкая цена на ' + name)\n",
        "    return site_n\n",
        "\n",
        "\n",
        "site = {\n",
        "    'html': {\n",
        "        'head': {\n",
        "            'title': 'Куплю/продам телефон недорого'\n",
        "        },\n",
        "        'body': {\n",
        "            'h2': 'У нас самая низкая цена на iPhone',\n",
        "            'div': 'Купить',\n",
        "            'p': 'Продать'\n",
        "        }\n",
        "    }\n",
        "}\n",
        "\n",
        "N = int(input('Сколько сайтов: '))\n",
        "for i in range(N):\n",
        "    name_of_product = input('Введите название продукта для нового сайта: ')\n",
        "    print('\\n\\nСайт для ' + name_of_product + ':')\n",
        "    print(new_site(site, name_of_product), '\\n\\n')\n",
        "    "
      ],
      "metadata": {
        "id": "9Jd6dZGZzxSZ",
        "colab": {
          "base_uri": "https://localhost:8080/"
        },
        "outputId": "065c2179-3d90-447c-fbe3-357dd1b811d3"
      },
      "execution_count": 8,
      "outputs": [
        {
          "output_type": "stream",
          "name": "stdout",
          "text": [
            "Сколько сайтов: 2\n",
            "Введите название продукта для нового сайта: iPhone\n",
            "\n",
            "\n",
            "Сайт для iPhone:\n",
            "{'html': {'head': {'title': 'Куплю/продам iPhone недорого'}, 'body': {'h2': 'У нас самая низкая цена на iPhone', 'div': 'Купить', 'p': 'Продать'}}} \n",
            "\n",
            "\n",
            "Введите название продукта для нового сайта: Samsung\n",
            "\n",
            "\n",
            "Сайт для Samsung:\n",
            "{'html': {'head': {'title': 'Куплю/продам Samsung недорого'}, 'body': {'h2': 'У нас самая низкая цена на Samsung', 'div': 'Купить', 'p': 'Продать'}}} \n",
            "\n",
            "\n"
          ]
        }
      ]
    },
    {
      "cell_type": "markdown",
      "source": [
        "# Задача 7"
      ],
      "metadata": {
        "id": "GXJ0JFRVIfXF"
      }
    },
    {
      "cell_type": "code",
      "source": [
        "# 07-advanced functional sum\n",
        "\n",
        "from typing import Iterable\n",
        "\n",
        "\n",
        "def advanced_sum(*param_f):\n",
        "    summa = 0\n",
        "    for elem in param_f:\n",
        "        if isinstance(elem, Iterable):\n",
        "            summa += advanced_sum(*elem)\n",
        "        else:\n",
        "            summa += elem\n",
        "    return summa\n",
        "    \n",
        "\n",
        "print('Ответ:', advanced_sum(1, 2, 3, 4, 5))\n",
        "\n",
        "print('Ответ:', advanced_sum([[1, 2, [3]], [1], 3]))\n"
      ],
      "metadata": {
        "colab": {
          "base_uri": "https://localhost:8080/"
        },
        "id": "2uwUz52AIiTw",
        "outputId": "919289a8-5ae0-4a3f-a811-cbc869f041a0"
      },
      "execution_count": null,
      "outputs": [
        {
          "output_type": "stream",
          "name": "stdout",
          "text": [
            "Ответ: 15\n",
            "Ответ: 10\n"
          ]
        }
      ]
    },
    {
      "cell_type": "markdown",
      "source": [
        "# Задача 8"
      ],
      "metadata": {
        "id": "WTQDjydoNXtX"
      }
    },
    {
      "cell_type": "code",
      "source": [
        "# 08-list of lists\n",
        "\n",
        "def list_disclosure(lst_f):\n",
        "    for j in lst_f:\n",
        "        if isinstance(j, list):\n",
        "            list_disclosure(j)\n",
        "        else:\n",
        "            new.append(j)\n",
        "\n",
        "\n",
        "nice_list = [1, 2, [3, 4], [[5, 6, 7], [8, 9, 10]],\n",
        "             [[11, 12, 13], [14, 15], [16, 17, 18]]]\n",
        "new = []\n",
        "for i in nice_list:\n",
        "    if isinstance(i, list):\n",
        "            list_disclosure(i)\n",
        "    else:\n",
        "        new.append(i)\n",
        "print(new)\n"
      ],
      "metadata": {
        "colab": {
          "base_uri": "https://localhost:8080/"
        },
        "id": "fPUwh1IUNcTJ",
        "outputId": "7f3e2d81-3b9c-4ebc-d53e-a9c1e7a42e77"
      },
      "execution_count": null,
      "outputs": [
        {
          "output_type": "stream",
          "name": "stdout",
          "text": [
            "[1, 2, 3, 4, 5, 6, 7, 8, 9, 10, 11, 12, 13, 14, 15, 16, 17, 18]\n"
          ]
        }
      ]
    },
    {
      "cell_type": "markdown",
      "source": [
        "# Задача 9"
      ],
      "metadata": {
        "id": "-f83BdJUTyJQ"
      }
    },
    {
      "cell_type": "code",
      "source": [
        "# 09-towers of hanoi\n",
        "\n",
        "def move(n, x, y):\n",
        "    if n == 1:\n",
        "        print('Переложить диск', n, 'со стержня номер', \n",
        "              x, 'на стержень номер', y)\n",
        "    else:\n",
        "        move(n - 1, x, 6 - x - y)\n",
        "        print('Переложить диск', n, 'со стержня номер', \n",
        "              x, 'на стержень номер', y)\n",
        "        move(n - 1, 6 - x - y, y)\n",
        "\n",
        "\n",
        "N = int(input('Введите количество дисков: '))\n",
        "\n",
        "move(N, 1, 3)\n"
      ],
      "metadata": {
        "id": "QLu2T42cT0k7",
        "colab": {
          "base_uri": "https://localhost:8080/"
        },
        "outputId": "184f5086-d0f2-4f6a-ab2b-71ab12f3653f"
      },
      "execution_count": null,
      "outputs": [
        {
          "output_type": "stream",
          "name": "stdout",
          "text": [
            "Введите количество дисков: 2\n",
            "Переложить диск 1 со стержня номер 1 на стержень номер 2\n",
            "Переложить диск 2 со стержня номер 1 на стержень номер 3\n",
            "Переложить диск 1 со стержня номер 2 на стержень номер 3\n"
          ]
        }
      ]
    }
  ]
}