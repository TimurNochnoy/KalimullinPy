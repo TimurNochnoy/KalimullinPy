{
 "cells": [
  {
   "cell_type": "markdown",
   "id": "54d007f8",
   "metadata": {},
   "source": [
    "# Задача 1"
   ]
  },
  {
   "cell_type": "code",
   "execution_count": 6,
   "id": "f4bd3790",
   "metadata": {},
   "outputs": [
    {
     "name": "stdout",
     "output_type": "stream",
     "text": [
      "Введите число: 4\n",
      "1 4 9 16 \n",
      "1 4 9 16 \n",
      "1 4 9 16 \n"
     ]
    }
   ],
   "source": [
    "# 01-number squares\n",
    "\n",
    "from Iterator import Iterator\n",
    "\n",
    "\n",
    "def generator(n):\n",
    "    for elem in range(1, n + 1):\n",
    "        yield elem**2\n",
    "\n",
    "\n",
    "N = int(input('Введите число: '))\n",
    "\n",
    "class_iterator = Iterator(N)\n",
    "for elem in class_iterator:\n",
    "    print(elem, end=' ')\n",
    "print()\n",
    "\n",
    "for elem in generator(N):\n",
    "    print(elem, end=' ')\n",
    "print()\n",
    "\n",
    "lst_generator = [i**2 for i in range(1, N + 1)]\n",
    "for elem in lst_generator:\n",
    "    print(elem, end=' ')\n",
    "print()\n"
   ]
  },
  {
   "cell_type": "markdown",
   "id": "977a2a7d",
   "metadata": {},
   "source": [
    "# Задача 2"
   ]
  },
  {
   "cell_type": "code",
   "execution_count": 9,
   "id": "cc5f9007",
   "metadata": {},
   "outputs": [
    {
     "name": "stdout",
     "output_type": "stream",
     "text": [
      "2 3 6\n",
      "2 8 16\n",
      "2 4 8\n",
      "2 9 18\n",
      "5 3 15\n",
      "5 8 40\n",
      "5 4 20\n",
      "5 9 45\n",
      "7 3 21\n",
      "7 8 56\n",
      "Found!!!\n"
     ]
    }
   ],
   "source": [
    "# 02-refactoring\n",
    "\n",
    "def generator(lst_1, lst_2):\n",
    "    for x in lst_1:\n",
    "        for y in lst_2:\n",
    "            yield x, y\n",
    "\n",
    "\n",
    "list_1 = [2, 5, 7, 10]\n",
    "list_2 = [3, 8, 4, 9]\n",
    "to_find = 56\n",
    "can_continue = True\n",
    "for x, y in generator(list_1, list_2):\n",
    "    result = x * y\n",
    "    print(x, y, result)\n",
    "    if x * y == to_find:\n",
    "        print('Found!!!')\n",
    "        break\n"
   ]
  },
  {
   "cell_type": "markdown",
   "id": "c636dc1c",
   "metadata": {},
   "source": [
    "# Задача 3"
   ]
  },
  {
   "cell_type": "code",
   "execution_count": 13,
   "id": "4c648b0b",
   "metadata": {},
   "outputs": [
    {
     "name": "stdout",
     "output_type": "stream",
     "text": [
      "Введите директорию: cpp/проги/Python/KalimullinPy/hw-20\n",
      "D:/cpp/проги/Python/KalimullinPy/hw-20/Automobile.py\n",
      "D:/cpp/проги/Python/KalimullinPy/hw-20/Buddhism.py\n",
      "D:/cpp/проги/Python/KalimullinPy/hw-20/Company.py\n",
      "D:/cpp/проги/Python/KalimullinPy/hw-20/House.py\n",
      "D:/cpp/проги/Python/KalimullinPy/hw-20/hw-20.ipynb\n",
      "D:/cpp/проги/Python/KalimullinPy/hw-20/karma.log\n",
      "D:/cpp/проги/Python/KalimullinPy/hw-20/LIFO.py\n",
      "D:/cpp/проги/Python/KalimullinPy/hw-20/My_dictionary.py\n",
      "D:/cpp/проги/Python/KalimullinPy/hw-20/Taxes.py\n",
      "D:/cpp/проги/Python/KalimullinPy/hw-20\\.ipynb_checkpoints/hw-20-checkpoint.ipynb\n",
      "D:/cpp/проги/Python/KalimullinPy/hw-20\\__pycache__/Automobile.cpython-310.pyc\n",
      "D:/cpp/проги/Python/KalimullinPy/hw-20\\__pycache__/Buddhism.cpython-310.pyc\n",
      "D:/cpp/проги/Python/KalimullinPy/hw-20\\__pycache__/Company.cpython-310.pyc\n",
      "D:/cpp/проги/Python/KalimullinPy/hw-20\\__pycache__/House.cpython-310.pyc\n",
      "D:/cpp/проги/Python/KalimullinPy/hw-20\\__pycache__/LIFO.cpython-310.pyc\n",
      "D:/cpp/проги/Python/KalimullinPy/hw-20\\__pycache__/My_dictionary.cpython-310.pyc\n",
      "D:/cpp/проги/Python/KalimullinPy/hw-20\\__pycache__/Taxes.cpython-310.pyc\n"
     ]
    }
   ],
   "source": [
    "# 03-file paths\n",
    "\n",
    "import os\n",
    "\n",
    "\n",
    "def gen_files_path(elem_f):\n",
    "    path = elem_f[0]\n",
    "    for elem_next in elem_f[1:]:\n",
    "        if isinstance(elem_next, list):\n",
    "            for elem_next_next in elem_next:\n",
    "                path_print = path + '/' + elem_next_next\n",
    "                if os.path.isfile(path_print):\n",
    "                    print(path_print)\n",
    "\n",
    "\n",
    "directory = input('Введите директорию: ')\n",
    "for elem in os.walk('D:/' + directory):\n",
    "    gen_files_path(elem)\n"
   ]
  },
  {
   "cell_type": "markdown",
   "id": "87f51acf",
   "metadata": {},
   "source": [
    "# Задача 4"
   ]
  },
  {
   "cell_type": "code",
   "execution_count": 14,
   "id": "9797968a",
   "metadata": {},
   "outputs": [
    {
     "name": "stdout",
     "output_type": "stream",
     "text": [
      "1 1 2 3 3 4 5 5 6 "
     ]
    }
   ],
   "source": [
    "# 04-Hofstadter sequence\n",
    "\n",
    "def Q(n):\n",
    "    if n == 1 or n == 2:\n",
    "        return 1\n",
    "    return Q(n - Q(n - 1)) + Q(n - Q(n - 2))\n",
    "\n",
    "\n",
    "def generator(n):\n",
    "    for i in range(1, n):\n",
    "        yield Q(i)\n",
    "        \n",
    "        \n",
    "for elem in generator(10):\n",
    "    print(elem, end=' ')\n"
   ]
  },
  {
   "cell_type": "markdown",
   "id": "cbf8883b",
   "metadata": {},
   "source": [
    "# Задача 5"
   ]
  },
  {
   "cell_type": "code",
   "execution_count": 26,
   "id": "53639320",
   "metadata": {},
   "outputs": [
    {
     "name": "stdout",
     "output_type": "stream",
     "text": [
      "Строк кода - 999\n"
     ]
    }
   ],
   "source": [
    "# 05-number of lines\n",
    "\n",
    "import os\n",
    "\n",
    "\n",
    "def lines_in_file(directory_f, path_f):\n",
    "    k = 0\n",
    "    lst_skip = ['hw-20.ipynb', 'karma.log']\n",
    "    for elem in os.listdir(directory):\n",
    "        if os.path.isfile(path + elem) and elem not in lst_skip:\n",
    "            for line in open(path + elem, 'r'):\n",
    "                if line != '\\n' and not line.startswith('#'):\n",
    "                    k += 1\n",
    "            yield k\n",
    "\n",
    "\n",
    "directory = 'D:/cpp/проги/Python/KalimullinPy/hw-20'\n",
    "path = directory + '/'\n",
    "summa = 0\n",
    "for number in lines_in_file(directory, path):\n",
    "    summa += number\n",
    "print('Строк кода -', summa)\n"
   ]
  },
  {
   "cell_type": "markdown",
   "id": "1458f7e0",
   "metadata": {},
   "source": [
    "# Задача 6"
   ]
  },
  {
   "cell_type": "code",
   "execution_count": 37,
   "id": "49f72fe4",
   "metadata": {},
   "outputs": [
    {
     "name": "stdout",
     "output_type": "stream",
     "text": [
      "Текущий список: [ 10 20 30 ]\n",
      "Получение третьего элемента: 30\n",
      "Удаление второго элемента.\n",
      "Новый список: [ 10 30 ]\n"
     ]
    }
   ],
   "source": [
    "# 06-singly linked list\n",
    "\n",
    "from LinkedList import LinkedList\n",
    "\n",
    "\n",
    "my_list = LinkedList()\n",
    "my_list.append(10)\n",
    "my_list.append(20)\n",
    "my_list.append(30)\n",
    "print('Текущий список:', end=' ')\n",
    "my_list.show()\n",
    "print('Получение третьего элемента:', my_list.get(2))\n",
    "print('Удаление второго элемента.')\n",
    "my_list.remove(1)\n",
    "print('Новый список:', end=' ')\n",
    "my_list.show()\n"
   ]
  }
 ],
 "metadata": {
  "kernelspec": {
   "display_name": "Python 3 (ipykernel)",
   "language": "python",
   "name": "python3"
  },
  "language_info": {
   "codemirror_mode": {
    "name": "ipython",
    "version": 3
   },
   "file_extension": ".py",
   "mimetype": "text/x-python",
   "name": "python",
   "nbconvert_exporter": "python",
   "pygments_lexer": "ipython3",
   "version": "3.10.2"
  }
 },
 "nbformat": 4,
 "nbformat_minor": 5
}
