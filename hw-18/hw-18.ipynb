{
 "cells": [
  {
   "cell_type": "markdown",
   "id": "40548b22",
   "metadata": {},
   "source": [
    "# Задача 1"
   ]
  },
  {
   "cell_type": "code",
   "execution_count": 9,
   "id": "0935fcde",
   "metadata": {},
   "outputs": [
    {
     "name": "stdout",
     "output_type": "stream",
     "text": [
      "Error in line 4\n",
      "Error in line 7\n",
      "27\n"
     ]
    }
   ],
   "source": [
    "# 01-names\n",
    "\n",
    "summa = 0\n",
    "k = 0\n",
    "errors = []\n",
    "with open('people.txt') as inf:\n",
    "    for line in inf:\n",
    "        k += 1\n",
    "        if len(line.strip()) >= 3:\n",
    "            summa += len(line.strip())\n",
    "        else:\n",
    "            print('Error in line', k)\n",
    "            errors.append('Error in line ' + str(k))\n",
    "            \n",
    "print(summa)\n",
    "\n",
    "with open('errors.log', 'w') as ouf:\n",
    "    for elem in errors:\n",
    "        ouf.write(elem + '\\n')\n"
   ]
  },
  {
   "cell_type": "markdown",
   "id": "7efd0507",
   "metadata": {},
   "source": [
    "# Задача 2"
   ]
  },
  {
   "cell_type": "code",
   "execution_count": 17,
   "id": "b1ca4d20",
   "metadata": {},
   "outputs": [
    {
     "name": "stdout",
     "output_type": "stream",
     "text": [
      "Что-то пошло не так : \n"
     ]
    }
   ],
   "source": [
    "# 02-coordinates\n",
    "\n",
    "import random\n",
    "\n",
    "\n",
    "def f(x, y):\n",
    "    x += random.randint(0, 10)\n",
    "    y += random.randint(0, 5)\n",
    "    return x / y\n",
    "\n",
    "\n",
    "def f2(x, y):\n",
    "    x -= random.randint(0, 10)\n",
    "    y -= random.randint(0, 5)\n",
    "    return y / x\n",
    "\n",
    "\n",
    "file = open('coordinates.txt', 'r')\n",
    "for line in file:\n",
    "    nums_list = line.split()\n",
    "file.close()\n",
    "\n",
    "try:\n",
    "    res1 = f(int(nums_list[0]), int(nums_list[1]))\n",
    "except Exception:\n",
    "    print(\"Что-то пошло не так с первой функцией\")\n",
    "\n",
    "try:\n",
    "    res2 = f2(int(nums_list[0]), int(nums_list[1]))\n",
    "except Exception:\n",
    "    print(\"Что-то пошло не так со второй функцией\")\n",
    "\n",
    "number = random.randint(0, 100)\n",
    "file_2 = open('result.txt', 'w')\n",
    "my_list = sorted([res1, res2, number])\n",
    "try:\n",
    "    file_2.write(' '.join(my_list))\n",
    "except Exception:\n",
    "    print(\"Что-то пошло не так : \")\n",
    "finally:\n",
    "    file_2.close()\n"
   ]
  },
  {
   "cell_type": "markdown",
   "id": "2af062d3",
   "metadata": {},
   "source": [
    "# Задача 3"
   ]
  },
  {
   "cell_type": "code",
   "execution_count": 24,
   "id": "301b6ba1",
   "metadata": {},
   "outputs": [
    {
     "name": "stdout",
     "output_type": "stream",
     "text": [
      "Введите число: 500\n",
      "Введите число: 200\n",
      "Введите число: 70\n",
      "Введите число: 7\n"
     ]
    }
   ],
   "source": [
    "# 03-lucky number\n",
    "\n",
    "import random\n",
    "\n",
    "\n",
    "summa = 0\n",
    "while summa < 777:\n",
    "    n = int(input('Введите число: '))\n",
    "    summa += n\n",
    "    try:\n",
    "        ouf = open('lucky.txt', 'a')\n",
    "        if 13 == random.randint(1, 13):\n",
    "            raise BaseException('Не повезло')\n",
    "            break\n",
    "        ouf.write(str(n) + '\\n')\n",
    "    finally:\n",
    "        ouf.close()\n"
   ]
  },
  {
   "cell_type": "markdown",
   "id": "3449946b",
   "metadata": {},
   "source": [
    "# Задача 4"
   ]
  },
  {
   "cell_type": "code",
   "execution_count": 57,
   "id": "4ae7ad63",
   "metadata": {},
   "outputs": [],
   "source": [
    "# 04-registration\n",
    "\n",
    "def check(line_f):\n",
    "    if len(line_f.strip().split()) != 3:\n",
    "        raise ValueError\n",
    "    if not line_f.strip().split()[0].isalpha():\n",
    "        raise NameError\n",
    "    f = 0\n",
    "    for letter in line_f.strip().split()[1]:\n",
    "        if letter == '@' or letter == '.':\n",
    "            f += 1\n",
    "    if f < 2:\n",
    "        raise SyntaxError\n",
    "    if int(line_f.strip().split()[2]) < 10 or int(line_f.strip().split()[2]) > 99:\n",
    "        raise ValueError\n",
    "\n",
    "\n",
    "good = []\n",
    "bad = []\n",
    "with open('registrations.txt') as inf:\n",
    "    for line in inf:\n",
    "        try:\n",
    "            check(line)\n",
    "        except ValueError:\n",
    "            bad.append(str(line.strip()) + ' ValueError')\n",
    "        except NameError:\n",
    "            bad.append(str(line.strip()) + ' NameError')\n",
    "        except SyntaxError:\n",
    "            bad.append(str(line.strip()) + ' SyntaxError')\n",
    "        else:\n",
    "            good.append(line.strip())\n",
    "\n",
    "with open('registrations_good.log', 'w') as ouf:\n",
    "    for elem in good:\n",
    "        ouf.write(str(elem) + '\\n')\n",
    "\n",
    "with open('registrations_bad.log', 'w') as ouf:\n",
    "    for elem in bad:\n",
    "        ouf.write(str(elem) + '\\n')\n"
   ]
  },
  {
   "cell_type": "markdown",
   "id": "c8c7676f",
   "metadata": {},
   "source": [
    "# Задача 5"
   ]
  },
  {
   "cell_type": "code",
   "execution_count": 75,
   "id": "c99d4bec",
   "metadata": {},
   "outputs": [
    {
     "name": "stdout",
     "output_type": "stream",
     "text": [
      "Invalid operation\n",
      "Invalid operation\n",
      "Сумма результатов: 139.75\n"
     ]
    }
   ],
   "source": [
    "# 05-text calculator\n",
    "\n",
    "def check(line_f):\n",
    "    operations = ['+', '-', '*', '/', '//', '%']\n",
    "    line_f = line_f.strip().split()\n",
    "    if line_f[1] == '/' and line_f[2] == '0':\n",
    "        raise ValueError\n",
    "    if line_f[1] not in operations:\n",
    "        raise SyntaxError\n",
    "\n",
    "def calculate(line_f):\n",
    "    operations = ['+', '-', '*', '/', '//', '%']\n",
    "    if line[1] == '+':\n",
    "        return int(line_f[0]) + int(line_f[2])\n",
    "    if line[1] == '-':\n",
    "        return int(line_f[0]) - int(line_f[2])\n",
    "    if line[1] == '*':\n",
    "        return int(line_f[0]) * int(line_f[2])\n",
    "    if line[1] == '/':\n",
    "        return int(line_f[0]) / int(line_f[2])\n",
    "    if line[1] == '//':\n",
    "        return int(line_f[0]) // int(line_f[2])\n",
    "    if line[1] == '%':\n",
    "        return int(line_f[0]) % int(line_f[2])\n",
    "\n",
    "\n",
    "summa = 0\n",
    "with open('calc.txt') as inf:\n",
    "    for line in inf:\n",
    "        try:\n",
    "            check(line)\n",
    "        except ValueError:\n",
    "            print('Division by zero')\n",
    "        except SyntaxError:\n",
    "            print('Invalid operation')\n",
    "        else:\n",
    "            line = line.strip().split()\n",
    "            summa += calculate(line)\n",
    "print('Сумма результатов:', summa)\n"
   ]
  },
  {
   "cell_type": "markdown",
   "id": "4206318a",
   "metadata": {},
   "source": [
    "# Задача 6"
   ]
  },
  {
   "cell_type": "code",
   "execution_count": 81,
   "id": "cb8c2359",
   "metadata": {},
   "outputs": [
    {
     "name": "stdout",
     "output_type": "stream",
     "text": [
      "Введите имя: данила\n",
      "Выйти из чата - 0.\n",
      "Посмотреть текущий текст чата - 1.\n",
      "Отправить сообщение - 2.\n",
      "1\n",
      "тимур:привет\n",
      "Выйти из чата - 0.\n",
      "Посмотреть текущий текст чата - 1.\n",
      "Отправить сообщение - 2.\n",
      "2\n",
      "Введите сообщение: привет\n",
      "Выйти из чата - 0.\n",
      "Посмотреть текущий текст чата - 1.\n",
      "Отправить сообщение - 2.\n",
      "1\n",
      "тимур:привет\n",
      "данила: привет\n",
      "Выйти из чата - 0.\n",
      "Посмотреть текущий текст чата - 1.\n",
      "Отправить сообщение - 2.\n",
      "0\n"
     ]
    }
   ],
   "source": [
    "# 06-chat\n",
    "\n",
    "name = input('Введите имя: ')\n",
    "print('Выйти из чата - 0.')\n",
    "print('Посмотреть текущий текст чата - 1.')\n",
    "print('Отправить сообщение - 2.')\n",
    "s = input()\n",
    "while s != '0':\n",
    "    if s == '0':\n",
    "        print('Выход из чата.')\n",
    "    elif s == '1':\n",
    "        try:\n",
    "            with open('chat.txt') as inf:\n",
    "                for message in inf:\n",
    "                    print(message, end='')\n",
    "        except FileNotFoundError:\n",
    "            print('Сообщений нет.')\n",
    "    elif s == '2':\n",
    "        message = input('Введите сообщение: ')\n",
    "        with open('chat.txt', 'a') as ouf:\n",
    "            ouf.write(name + ': ' + message + '\\n')\n",
    "    else:\n",
    "        print('Такого действия нет.')\n",
    "    \n",
    "    print('Выйти из чата - 0.')\n",
    "    print('Посмотреть текущий текст чата - 1.')\n",
    "    print('Отправить сообщение - 2.')\n",
    "    s = input()\n"
   ]
  },
  {
   "cell_type": "markdown",
   "id": "3933643a",
   "metadata": {},
   "source": [
    "# Задача 7"
   ]
  },
  {
   "cell_type": "code",
   "execution_count": 74,
   "id": "a2d87f08",
   "metadata": {},
   "outputs": [
    {
     "name": "stdout",
     "output_type": "stream",
     "text": [
      "Обнаружена ошибка в строке: 10 +* 3\n",
      " Хотите исправить? нет\n",
      "Обнаружена ошибка в строке: 20 -* 2\n",
      " Хотите исправить? да\n",
      "Введите исправленную строку: 20 - 2\n",
      "Сумма результатов: 157.75\n"
     ]
    }
   ],
   "source": [
    "# 07-text calculator\n",
    "\n",
    "def check(line_f):\n",
    "    operations = ['+', '-', '*', '/', '//', '%']\n",
    "    line_f = line_f.strip().split()\n",
    "    if line_f[1] == '/' and line_f[2] == '0':\n",
    "        raise ValueError\n",
    "    if line_f[1] not in operations:\n",
    "        raise SyntaxError\n",
    "\n",
    "def calculate(line_f):\n",
    "    operations = ['+', '-', '*', '/', '//', '%']\n",
    "    if line[1] == '+':\n",
    "        return int(line_f[0]) + int(line_f[2])\n",
    "    if line[1] == '-':\n",
    "        return int(line_f[0]) - int(line_f[2])\n",
    "    if line[1] == '*':\n",
    "        return int(line_f[0]) * int(line_f[2])\n",
    "    if line[1] == '/':\n",
    "        return int(line_f[0]) / int(line_f[2])\n",
    "    if line[1] == '//':\n",
    "        return int(line_f[0]) // int(line_f[2])\n",
    "    if line[1] == '%':\n",
    "        return int(line_f[0]) % int(line_f[2])\n",
    "\n",
    "\n",
    "data = []\n",
    "with open('calc.txt') as inf:\n",
    "    for line in inf:\n",
    "        try:\n",
    "            check(line)\n",
    "        except ValueError:\n",
    "            print('Обнаружена ошибка в строке:', line, end=' ')\n",
    "            s = input('Хотите исправить? ')\n",
    "            if s == 'да':\n",
    "                data.append(input('Введите исправленную строку: '))\n",
    "        except SyntaxError:\n",
    "            print('Обнаружена ошибка в строке:', line, end=' ')\n",
    "            s = input('Хотите исправить? ')\n",
    "            if s == 'да':\n",
    "                data.append(input('Введите исправленную строку: '))\n",
    "        else:\n",
    "            data.append(line)\n",
    "\n",
    "summa = 0\n",
    "for line in data:\n",
    "    line = line.strip().split()\n",
    "    summa += calculate(line)\n",
    "print('Сумма результатов:', summa)\n"
   ]
  }
 ],
 "metadata": {
  "kernelspec": {
   "display_name": "Python 3 (ipykernel)",
   "language": "python",
   "name": "python3"
  },
  "language_info": {
   "codemirror_mode": {
    "name": "ipython",
    "version": 3
   },
   "file_extension": ".py",
   "mimetype": "text/x-python",
   "name": "python",
   "nbconvert_exporter": "python",
   "pygments_lexer": "ipython3",
   "version": "3.10.2"
  }
 },
 "nbformat": 4,
 "nbformat_minor": 5
}
