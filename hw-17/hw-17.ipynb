{
 "cells": [
  {
   "cell_type": "markdown",
   "id": "6bad8a7b",
   "metadata": {},
   "source": [
    "# Задача 1"
   ]
  },
  {
   "cell_type": "code",
   "execution_count": 25,
   "id": "624f343f",
   "metadata": {},
   "outputs": [],
   "source": [
    "# 01-sum of numbers 2\n",
    "\n",
    "summa = 0\n",
    "\n",
    "with open('numbers.txt') as inf:\n",
    "    for line in inf:\n",
    "        if line.strip() == '2':\n",
    "            summa += 2\n",
    "\n",
    "with open('answer.txt', 'w') as ouf:\n",
    "    ouf.write(str(summa))\n"
   ]
  },
  {
   "cell_type": "markdown",
   "id": "70db8355",
   "metadata": {},
   "source": [
    "# Задача 2"
   ]
  },
  {
   "cell_type": "code",
   "execution_count": 28,
   "id": "abb8985a",
   "metadata": {},
   "outputs": [
    {
     "name": "stdout",
     "output_type": "stream",
     "text": [
      "Namespaces are one honking great idea -- let's do more of those!\n",
      "If the implementation is easy to explain, it may be a good idea.\n",
      "If the implementation is hard to explain, it's a bad idea.\n",
      "Although never is often better than *right* now.\n",
      "Now is better than never.\n",
      "Although that way may not be obvious at first unless you're Dutch.\n",
      "There should be one-- and preferably only one --obvious way to do it.\n",
      "In the face of ambiguity, refuse the temptation to guess.\n",
      "Unless explicitly silenced.\n",
      "Errors should never pass silently.\n",
      "Although practicality beats purity.\n",
      "Special cases aren't special enough to break the rules.\n",
      "Readability counts.\n",
      "Sparse is better than dense.\n",
      "Flat is better than nested.\n",
      "Complex is better than complicated.\n",
      "Simple is better than complex.\n",
      "Explicit is better than implicit.\n",
      "Beautiful is better than ugly.\n"
     ]
    }
   ],
   "source": [
    "# 02-the Zen of Python\n",
    "\n",
    "data = []\n",
    "\n",
    "with open('zen.txt') as inf:\n",
    "    for line in inf:\n",
    "        data.append(line.strip())\n",
    "\n",
    "print(*(data[::-1]), sep='\\n')\n",
    "        "
   ]
  },
  {
   "cell_type": "markdown",
   "id": "0c920a52",
   "metadata": {},
   "source": [
    "# Задача 3"
   ]
  },
  {
   "cell_type": "code",
   "execution_count": 53,
   "id": "d3d83d41",
   "metadata": {},
   "outputs": [
    {
     "name": "stdout",
     "output_type": "stream",
     "text": [
      "652 137 19\n",
      "k\n"
     ]
    }
   ],
   "source": [
    "# 03-the Zen of Python 2\n",
    "\n",
    "k_lines = 0\n",
    "k_words = 0\n",
    "k_letters = 0\n",
    "\n",
    "alphabet = {}\n",
    "\n",
    "with open('zen.txt') as inf:\n",
    "    for line in inf:\n",
    "        s = line.strip().split()\n",
    "        for word in s:\n",
    "            for letter in word.lower():\n",
    "                if letter.isalpha():\n",
    "                    if letter in alphabet:\n",
    "                        alphabet[letter] += 1\n",
    "                    else:\n",
    "                        alphabet[letter] = 1\n",
    "                    k_letters += 1\n",
    "        k_words += len(s)\n",
    "        k_lines += 1\n",
    "\n",
    "print(k_letters, k_words, k_lines)\n",
    "k_min = min([value for value in alphabet.values()])\n",
    "print(*(key for key in alphabet.keys() if alphabet[key] == k_min))\n"
   ]
  },
  {
   "cell_type": "markdown",
   "id": "f15432bd",
   "metadata": {},
   "source": [
    "# Задача 4"
   ]
  },
  {
   "cell_type": "code",
   "execution_count": 10,
   "id": "0e6c3f61",
   "metadata": {},
   "outputs": [
    {
     "name": "stdout",
     "output_type": "stream",
     "text": [
      "Размер каталога (в Кб): 4778461.2763671875\n",
      "Количество подкаталогов: 18\n",
      "Количество файлов: 4\n"
     ]
    }
   ],
   "source": [
    "# 04-files and folders\n",
    "\n",
    "import os\n",
    "\n",
    "\n",
    "size = 0\n",
    "# r stands for \"raw\" and will cause backslashes in the string to be interpreted as \n",
    "# actual backslashes rather than special characters.\n",
    "path = r'C:'\n",
    "# Creates a tuple: directory address, list of subdirectory names, list of filenames\n",
    "path, dirs, files = next(os.walk(path))\n",
    "for file in files:\n",
    "    file_path = os.path.join(path, file)\n",
    "    size += os.path.getsize(file_path)\n",
    "\n",
    "print('Размер каталога (в Кб):', size / 1024)\n",
    "print('Количество подкаталогов:', len(dirs))\n",
    "print('Количество файлов:', len(files))\n"
   ]
  },
  {
   "cell_type": "markdown",
   "id": "d8d99732",
   "metadata": {},
   "source": [
    "# Задача 5"
   ]
  },
  {
   "cell_type": "code",
   "execution_count": 66,
   "id": "a4b74174",
   "metadata": {},
   "outputs": [
    {
     "name": "stdout",
     "output_type": "stream",
     "text": [
      "Введите строку: programm test\n",
      "Куда хотите сохранить документ? Введите последовательность папок (через пробел):\n",
      "cpp проги Python KalimullinPy hw-17\n",
      "Введите имя файла:my_document\n",
      "Вы действительно хотите перезаписать файл? да\n",
      "Файл успешно перезаписан!\n",
      "Содержимое файла:\n",
      "programm test\n"
     ]
    }
   ],
   "source": [
    "# 05-preservation\n",
    "\n",
    "import os\n",
    " \n",
    "    \n",
    "text = input('Введите строку: ')\n",
    "path = input('Куда хотите сохранить документ? Введите последовательность папок (через пробел):\\n')\n",
    "name = input('Введите имя файла:')\n",
    "\n",
    "path = str('D:/' + path.replace(' ', '/'))\n",
    "path = str(path + '/' + name)\n",
    "abs_path = os.path.abspath(name)\n",
    "\n",
    "if os.path.exists(abs_path):\n",
    "    s = input('Вы действительно хотите перезаписать файл? ')\n",
    "    if s == 'да':\n",
    "        with open(name, 'w') as inf:\n",
    "            inf.write(text)\n",
    "            print('Файл успешно перезаписан!')\n",
    "    else:\n",
    "        print('Отмена.')\n",
    "else:\n",
    "    with open(name, 'w') as inf:\n",
    "        inf.write(text)\n",
    "        print('Файл успешно сохранён!')\n",
    "        \n",
    "with open(name) as ouf:\n",
    "    print('Содержимое файла:')\n",
    "    print(ouf.read())\n"
   ]
  },
  {
   "cell_type": "markdown",
   "id": "757ecc51",
   "metadata": {},
   "source": [
    "# Задача 6"
   ]
  },
  {
   "cell_type": "code",
   "execution_count": 76,
   "id": "c8bada12",
   "metadata": {},
   "outputs": [
    {
     "name": "stdout",
     "output_type": "stream",
     "text": [
      "Ifmmp\n",
      "Jgnnq\n",
      "Khoor\n",
      "Lipps\n"
     ]
    }
   ],
   "source": [
    "# 06-paranoia\n",
    "\n",
    "def cryptographer(word_f, shift):\n",
    "    alphabet_l = ['a', 'b', 'c', 'd', 'e', 'f', 'g', 'h', 'i',\n",
    "                  'j', 'k', 'l', 'm', 'n', 'o', 'p', 'q', 'r',\n",
    "                  's', 't', 'u', 'v', 'w', 'x', 'y', 'z']\n",
    "    alphabet_b = ['A', 'B', 'C', 'D', 'E', 'F', 'G', 'H', 'I',\n",
    "                  'J', 'K', 'L', 'M', 'N', 'O', 'P', 'Q', 'R',\n",
    "                  'S', 'T', 'U', 'V', 'W', 'X', 'Y', 'Z']\n",
    "    new_word = []\n",
    "    f = 0\n",
    "    word_f = list(word_f)\n",
    "    for i in range(len(word_f)):\n",
    "        for j in range(len(alphabet_l)):\n",
    "            if word_f[i] == alphabet_l[j]:\n",
    "                f = -1\n",
    "                index = j\n",
    "        for j in range(len(alphabet_b)):\n",
    "            if word_f[i] == alphabet_b[j]:\n",
    "                f = 1\n",
    "                index = j\n",
    "        if f == -1:\n",
    "            new_word.append(alphabet_l[(index + shift) % 26])\n",
    "        elif f == 1:\n",
    "            new_word.append(alphabet_b[(index + shift) % 26])\n",
    "        else:\n",
    "            new_word.append(word_f[i])\n",
    "    return ''.join(new_word)\n",
    "    \n",
    "\n",
    "lst_lines = []\n",
    "\n",
    "with open('text.txt') as inf:\n",
    "    for line in inf:\n",
    "        lst_lines.append(line.strip())\n",
    "\n",
    "with open('cipher_text.txt', 'w') as ouf:\n",
    "    for i in range(len(lst_lines)):\n",
    "        ouf.write(str(cryptographer(lst_lines[i], i + 1) + '\\n'))\n",
    "        print(str(cryptographer(lst_lines[i], i + 1)))\n"
   ]
  },
  {
   "cell_type": "markdown",
   "id": "be031b6f",
   "metadata": {},
   "source": [
    "# Задача 7"
   ]
  },
  {
   "cell_type": "code",
   "execution_count": 115,
   "id": "ef84aa5f",
   "metadata": {},
   "outputs": [],
   "source": [
    "# 07-tournament\n",
    "\n",
    "data = []\n",
    "\n",
    "with open('first_tour.txt') as inf:\n",
    "    k = int(inf.readline().strip())\n",
    "    for line in inf:\n",
    "        data.append([elem for elem in line.strip().split(' ')])\n",
    "\n",
    "data_new = []\n",
    "for man in data:\n",
    "    if int(man[2]) > k:\n",
    "        data_new.append(man)\n",
    "        man[1] = str(man[1][0] + '.')\n",
    "        man[0], man[2] = man[2], man[0]\n",
    "data_new.sort(reverse=True)\n",
    "\n",
    "with open('second_tour.txt', 'w') as ouf:\n",
    "    ouf.write(str(len(data_new)) + '\\n')\n",
    "    for i in range(len(data_new)):\n",
    "        ouf.write(str(i+1) + ') ')\n",
    "        ouf.write(str(data_new[i][1]) + ' ')\n",
    "        ouf.write(str(data_new[i][2]) + ' ')\n",
    "        ouf.write(str(data_new[i][0]) + '\\n')\n"
   ]
  },
  {
   "cell_type": "markdown",
   "id": "63c6acba",
   "metadata": {},
   "source": [
    "# Задача 8"
   ]
  },
  {
   "cell_type": "code",
   "execution_count": 135,
   "id": "17b9c414",
   "metadata": {},
   "outputs": [],
   "source": [
    "# 08-frequency analysis\n",
    "\n",
    "with open('text.txt') as inf:\n",
    "    s = inf.read().strip().lower()\n",
    "\n",
    "dct = {}\n",
    "for i in range(len(s)):\n",
    "    if s[i].isalpha():\n",
    "        if s[i] in dct:\n",
    "            dct[s[i]] += 1\n",
    "        else:\n",
    "            dct[s[i]] = 1\n",
    "\n",
    "summa = 0\n",
    "for value in dct.values():\n",
    "    summa += int(value)\n",
    "\n",
    "data = []\n",
    "for i in range(max(dct.values()), 0, -1):\n",
    "    lst_help = [str(i)]\n",
    "    for key in dct.keys():\n",
    "        if i == dct[key]:\n",
    "            lst_help.append(key)\n",
    "    if len(lst_help) > 1:\n",
    "        data.append(lst_help)\n",
    "\n",
    "for i in range(len(data)):\n",
    "    data[i].sort()\n",
    "\n",
    "with open('analysis.txt', 'w') as ouf:\n",
    "    for elem in data:\n",
    "        for i in range(1, len(elem)):\n",
    "            ouf.write(elem[i] + ' ')\n",
    "            ouf.write(str(round(int(elem[0]) / summa, 3)) + '\\n')\n"
   ]
  },
  {
   "cell_type": "markdown",
   "id": "2cd3992b",
   "metadata": {},
   "source": [
    "# Задача 9"
   ]
  },
  {
   "cell_type": "code",
   "execution_count": 4,
   "id": "7f4e4186",
   "metadata": {},
   "outputs": [],
   "source": [
    "# 09-War and Peace\n",
    "\n",
    "import zipfile\n",
    "import os\n",
    "\n",
    "\n",
    "path = os.path.join('voyna-i-mir', 'voyna-i-mir.txt')\n",
    "archive = 'voyna-i-mir.zip'\n",
    "with zipfile.ZipFile(archive, 'r') as zip_file:\n",
    "    zip_file.extractall(r'voyna-i-mir')\n",
    "    f = open(path, encoding='utf-8')\n",
    "    f.close()\n",
    "\n",
    "alphabet = {}\n",
    "    \n",
    "with open(path, encoding='utf-8') as inf:\n",
    "    for letter in inf.read():\n",
    "        if letter.isalpha():\n",
    "            if letter in alphabet:\n",
    "                alphabet[letter] += 1\n",
    "            else:\n",
    "                alphabet[letter] = 1\n",
    "\n",
    "data = []\n",
    "for key in alphabet:\n",
    "    data.append([alphabet[key], key])\n",
    "data.sort()\n",
    "\n",
    "with open('results.txt', 'w') as ouf:\n",
    "    for elem in data:\n",
    "        ouf.write(str(elem[1]) + ' - ')\n",
    "        ouf.write(str(elem[0]) + '\\n')\n"
   ]
  }
 ],
 "metadata": {
  "kernelspec": {
   "display_name": "Python 3 (ipykernel)",
   "language": "python",
   "name": "python3"
  },
  "language_info": {
   "codemirror_mode": {
    "name": "ipython",
    "version": 3
   },
   "file_extension": ".py",
   "mimetype": "text/x-python",
   "name": "python",
   "nbconvert_exporter": "python",
   "pygments_lexer": "ipython3",
   "version": "3.10.2"
  }
 },
 "nbformat": 4,
 "nbformat_minor": 5
}
