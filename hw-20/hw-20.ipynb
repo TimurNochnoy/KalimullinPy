{
 "cells": [
  {
   "cell_type": "markdown",
   "id": "4f5111df",
   "metadata": {},
   "source": [
    "# Задача 1"
   ]
  },
  {
   "cell_type": "code",
   "execution_count": 9,
   "id": "3f1fdbd3",
   "metadata": {},
   "outputs": [
    {
     "name": "stdout",
     "output_type": "stream",
     "text": [
      "Введите количество Ваших денег: 500\n",
      "Введите стоимость квартиры: 500000\n",
      "Введите стоимость машины: 300000\n",
      "Введите стоимость дома: 1000000\n",
      "Суммарный налог: 4000.0\n",
      "Не хватает на погашение налогов: 3500.0\n"
     ]
    }
   ],
   "source": [
    "# 01-taxes\n",
    "\n",
    "from Taxes import Property\n",
    "\n",
    "\n",
    "salary = float(input('Введите количество Ваших денег: '))\n",
    "apartment = Apartment(float(input('Введите стоимость квартиры: ')))\n",
    "car = Car(float(input('Введите стоимость машины: ')))\n",
    "house = CountryHouse(float(input('Введите стоимость дома: ')))\n",
    "print('Суммарный налог:', round(apartment.calculation() + car.calculation() + house.calculation(), 2))\n",
    "if apartment.calculation() + car.calculation() + house.calculation() > salary:\n",
    "    print('Не хватает на погашение налогов:', round(apartment.calculation() + car.calculation()\n",
    "                                                    + house.calculation() - salary, 2))\n"
   ]
  },
  {
   "cell_type": "markdown",
   "id": "5c53a652",
   "metadata": {},
   "source": [
    "# Задача 2"
   ]
  },
  {
   "cell_type": "code",
   "execution_count": 4,
   "id": "514bd9ed",
   "metadata": {},
   "outputs": [
    {
     "name": "stdout",
     "output_type": "stream",
     "text": [
      "503\n"
     ]
    }
   ],
   "source": [
    "# 02-Karma\n",
    "\n",
    "from Buddhism import Buddhism\n",
    "\n",
    "simulation = Buddhism()\n",
    "while simulation.karma < simulation.max_karma:\n",
    "    simulation.one_day()\n",
    "print(simulation.karma)\n"
   ]
  },
  {
   "cell_type": "markdown",
   "id": "303483f5",
   "metadata": {},
   "source": [
    "# Задача 3"
   ]
  },
  {
   "cell_type": "code",
   "execution_count": 15,
   "id": "221160aa",
   "metadata": {},
   "outputs": [
    {
     "name": "stdout",
     "output_type": "stream",
     "text": [
      "hello\n",
      "0\n"
     ]
    }
   ],
   "source": [
    "# 03-my dictionary\n",
    "\n",
    "from My_dictionary import MyDict\n",
    "\n",
    "\n",
    "dict_m = {'привет': 'hello',\n",
    "       'собака': 'dog',\n",
    "       'кошка': 'cat'}\n",
    "dict_m = MyDict(dict_m)\n",
    "\n",
    "print(dict_m.get('привет'))\n",
    "print(dict_m.get('мама'))\n"
   ]
  },
  {
   "cell_type": "markdown",
   "id": "5b588b0c",
   "metadata": {},
   "source": [
    "# Задача 4"
   ]
  },
  {
   "cell_type": "code",
   "execution_count": 22,
   "id": "dc55d686",
   "metadata": {},
   "outputs": [
    {
     "name": "stdout",
     "output_type": "stream",
     "text": [
      "Заработная плата всех служащих: 114300.0\n"
     ]
    }
   ],
   "source": [
    "# 04-company\n",
    "\n",
    "from Company import Manager, Agent, Worker\n",
    "\n",
    "\n",
    "list_of_employees = [Manager('Иван', 'Иванов', 29), \n",
    "                     Manager('Петр', 'Петров', 28), \n",
    "                     Manager('Алексей', 'Алексеев', 27), \n",
    "                     Agent('Данила', 'Данилов', 26, 1000), \n",
    "                     Agent('Михаил', 'Михайлов', 25, 2000), \n",
    "                     Agent('Артем', 'Артемов', 24, 3000), \n",
    "                     Worker('Максим', 'Максимов', 23, 100), \n",
    "                     Worker('Кирилл', 'Кириллов', 22, 200), \n",
    "                     Worker('Владимир', 'Владимиров', 21, 300)]\n",
    "\n",
    "summa = 0\n",
    "for elem in list_of_employees:\n",
    "    summa += elem.salary()\n",
    "print('Заработная плата всех служащих:', summa)\n"
   ]
  },
  {
   "cell_type": "markdown",
   "id": "42dda117",
   "metadata": {},
   "source": [
    "# Задача 5"
   ]
  },
  {
   "cell_type": "code",
   "execution_count": 20,
   "id": "91b89694",
   "metadata": {},
   "outputs": [
    {
     "name": "stdout",
     "output_type": "stream",
     "text": [
      "0.7071067811865476 0.7071067811865476\n",
      "1.7071067811865475 0.7071067811865476\n",
      "\n",
      "0.7071067811865476 0.7071067811865476 10\n",
      "1.7071067811865475 0.7071067811865476 40\n"
     ]
    }
   ],
   "source": [
    "# 05-automobile\n",
    "\n",
    "import math as m\n",
    "from Automobile import Automobile, Bus\n",
    "\n",
    "\n",
    "automobile = Automobile(0, 0, m.pi / 4)\n",
    "automobile.move(1)\n",
    "automobile.info()\n",
    "automobile.move(1, -m.pi / 4)\n",
    "automobile.info()\n",
    "\n",
    "print()\n",
    "\n",
    "bus = Bus(0, 0,  m.pi / 4, 1)\n",
    "bus.move(1)\n",
    "bus.info()\n",
    "bus.come_in(3)\n",
    "bus.get_off(1)\n",
    "bus.move(1, -m.pi / 4)\n",
    "bus.info()\n"
   ]
  },
  {
   "cell_type": "markdown",
   "id": "aa81dab1",
   "metadata": {},
   "source": [
    "# Задача 6"
   ]
  },
  {
   "cell_type": "code",
   "execution_count": 35,
   "id": "e3bfa65d",
   "metadata": {},
   "outputs": [
    {
     "name": "stdout",
     "output_type": "stream",
     "text": [
      "True - жив, False - мертв\n",
      "False True False\n",
      "5925 550\n",
      "14650\n"
     ]
    }
   ],
   "source": [
    "# 06-Shared accommodation v2.0\n",
    "\n",
    "import random\n",
    "from House import Husband, Wife, Cat\n",
    "\n",
    "\n",
    "man = Husband('Иван')\n",
    "woman = Wife('Мария')\n",
    "cat = Cat('Кот')\n",
    "day = 0\n",
    "while day < 365:\n",
    "    day += 1\n",
    "    x_man = random.randint(1, 4)\n",
    "    x_woman = random.randint(1, 5)\n",
    "    x_cat = random.randint(1, 3)\n",
    "    \n",
    "    if x_man == 1:\n",
    "        man.eat()\n",
    "    elif x_man == 2:\n",
    "        man.play()\n",
    "    elif x_man == 3:\n",
    "        man.work()\n",
    "    elif x_man == 4:\n",
    "        man.pet_the_cat()\n",
    "    \n",
    "    if x_woman == 1:\n",
    "        woman.eat()\n",
    "    elif x_woman == 2:\n",
    "        woman.buy_food()\n",
    "    elif x_woman == 3 and woman.money >= 400:\n",
    "        woman.buy_a_fur_coat()\n",
    "    elif x_woman == 4:\n",
    "        woman.clean_up()\n",
    "    elif x_woman == 5:\n",
    "        woman.pet_the_cat()\n",
    "    \n",
    "    if x_cat == 1:\n",
    "        cat.eat()\n",
    "    elif x_cat == 2:\n",
    "        cat.sleep()\n",
    "    elif x_cat == 3:\n",
    "        cat.tear_wallpaper()\n",
    "    \n",
    "    man.dirt += 5\n",
    "\n",
    "print('True - жив, False - мертв')\n",
    "print(man.info(), woman.info(), cat.info())\n",
    "print(man.happiness, woman.happiness)\n",
    "print(man.money)\n"
   ]
  },
  {
   "cell_type": "markdown",
   "id": "632aebfb",
   "metadata": {},
   "source": [
    "# Задача 7"
   ]
  },
  {
   "cell_type": "code",
   "execution_count": 51,
   "id": "03d77be3",
   "metadata": {},
   "outputs": [
    {
     "name": "stdout",
     "output_type": "stream",
     "text": [
      "[1, 2]\n",
      "[1]\n",
      "\n",
      "1 отдохнуть\n",
      "2 поесть; сдать дз\n",
      "4 сделать уборку; помыть посуду\n",
      "\n",
      "1 отдохнуть\n",
      "2 поесть\n",
      "4 сделать уборку; помыть посуду\n"
     ]
    }
   ],
   "source": [
    "# 07-stack\n",
    "\n",
    "from LIFO import LIFO, TaskManager\n",
    "\n",
    "\n",
    "lifo = LIFO()\n",
    "lifo.push(1)\n",
    "lifo.push(2)\n",
    "lifo.info()\n",
    "lifo.pop()\n",
    "lifo.info()\n",
    "\n",
    "print()\n",
    "\n",
    "manager = TaskManager()\n",
    "manager.new_task('сделать уборку', 4)\n",
    "manager.new_task('помыть посуду', 4)\n",
    "manager.new_task('отдохнуть', 1)\n",
    "manager.new_task('поесть', 2)\n",
    "manager.new_task('сдать дз', 2)\n",
    "manager.info()\n",
    "print()\n",
    "manager.delete_task('сдать дз', 2)\n",
    "manager.info()\n"
   ]
  }
 ],
 "metadata": {
  "kernelspec": {
   "display_name": "Python 3 (ipykernel)",
   "language": "python",
   "name": "python3"
  },
  "language_info": {
   "codemirror_mode": {
    "name": "ipython",
    "version": 3
   },
   "file_extension": ".py",
   "mimetype": "text/x-python",
   "name": "python",
   "nbconvert_exporter": "python",
   "pygments_lexer": "ipython3",
   "version": "3.10.2"
  }
 },
 "nbformat": 4,
 "nbformat_minor": 5
}
